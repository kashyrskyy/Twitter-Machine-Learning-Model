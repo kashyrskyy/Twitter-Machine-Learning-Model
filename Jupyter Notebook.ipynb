{
 "cells": [
  {
   "cell_type": "markdown",
   "metadata": {},
   "source": [
    "**What makes up a tweet?**\n",
    "- length of the tweet\n",
    "- word frequencies by hate speech/not hate speech\n",
    "- it being a reetweet or not"
   ]
  },
  {
   "cell_type": "markdown",
   "metadata": {},
   "source": [
    "### Starting the project.\n",
    "\n",
    "**Outline:**\n",
    "\n",
    "**1. importing dataset #1**\n",
    "  \n",
    "   1.0 reference of the dataset, brief context behind\n",
    "   \n",
    "   1.1 displaying dataset #1\n",
    "   \n",
    "   1.2 explaining its current content\n",
    "\n",
    "**2. importing dataset #2**\n",
    "   \n",
    "   2.0 reference of the dataset, brief context behind\n",
    "   \n",
    "   2.1 displaying dataset #1\n",
    "   \n",
    "   2.2 explaining its current content\n",
    "   \n",
    "**3. merging two datasets**\n",
    "   \n",
    "   3.1. explaining what changes to make to one dataset to merge\n",
    " \n",
    "**4. Looking at the frequency of hate speech and non-hate speech data (Histogram)**\n",
    "\n",
    "**5. Making a distribution of the length of** \n",
    "\n",
    "   5.0 all tweets, \n",
    "   \n",
    "   5.1 hate-speech tweets, \n",
    "   \n",
    "   5.2 non-hate-speech tweets\n",
    "\n",
    "**6. Making a data visulization of word frequencies** \n",
    "   \n",
    "   6.1 for hate-speech\n",
    "   \n",
    "   6.2 for non-hate speech\n",
    "   \n",
    "**7. (maybe) Data visualization for retweet frequencies** "
   ]
  },
  {
   "cell_type": "code",
   "execution_count": 1,
   "metadata": {},
   "outputs": [],
   "source": [
    "import pandas as pd"
   ]
  },
  {
   "cell_type": "code",
   "execution_count": 2,
   "metadata": {
    "scrolled": false
   },
   "outputs": [
    {
     "name": "stdout",
     "output_type": "stream",
     "text": [
      "   id  label                                              tweet\n",
      "0   1      0   @user when a father is dysfunctional and is s...\n",
      "1   2      0  @user @user thanks for #lyft credit i can't us...\n",
      "2   3      0                                bihday your majesty\n",
      "3   4      0  #model   i love u take with u all the time in ...\n",
      "4   5      0             factsguide: society now    #motivation\n",
      "<class 'pandas.core.frame.DataFrame'>\n",
      "RangeIndex: 31962 entries, 0 to 31961\n",
      "Data columns (total 3 columns):\n",
      "id       31962 non-null int64\n",
      "label    31962 non-null int64\n",
      "tweet    31962 non-null object\n",
      "dtypes: int64(2), object(1)\n",
      "memory usage: 749.2+ KB\n",
      "None\n"
     ]
    }
   ],
   "source": [
    "df = pd.read_csv('train.csv')\n",
    "print(df.head())\n",
    "print(df.info())"
   ]
  },
  {
   "cell_type": "markdown",
   "metadata": {},
   "source": [
    "#### Note: label '1' denotes the tweet is racist/sexist and label '0' denotes the tweet is not racist/sexist."
   ]
  },
  {
   "cell_type": "code",
   "execution_count": 3,
   "metadata": {},
   "outputs": [
    {
     "data": {
      "text/plain": [
       "0    29720\n",
       "1     2242\n",
       "Name: label, dtype: int64"
      ]
     },
     "execution_count": 3,
     "metadata": {},
     "output_type": "execute_result"
    }
   ],
   "source": [
    "df.label.value_counts()\n",
    "\n",
    "## 0 - not hate speech\n",
    "## 1 - hate speech"
   ]
  },
  {
   "cell_type": "code",
   "execution_count": null,
   "metadata": {},
   "outputs": [],
   "source": []
  },
  {
   "cell_type": "code",
   "execution_count": 4,
   "metadata": {},
   "outputs": [],
   "source": [
    "## Class imbalance \n",
    "#check if there are any missing values\n",
    "\n",
    "for i in range(len(df)):\n",
    "    if df['label'][i] != 0 and df['label'][i] != 1:\n",
    "        print(df['label'][i])\n",
    "    else:\n",
    "        continue\n",
    "# no output - all 1s and 0s present"
   ]
  },
  {
   "cell_type": "code",
   "execution_count": 5,
   "metadata": {
    "scrolled": true
   },
   "outputs": [
    {
     "data": {
      "text/plain": [
       "<Figure size 640x480 with 1 Axes>"
      ]
     },
     "metadata": {},
     "output_type": "display_data"
    }
   ],
   "source": [
    "## change x-axis\n",
    "\n",
    "import matplotlib.pyplot as plt\n",
    "\n",
    "Sentiment_count = df.groupby('label').count()\n",
    "\n",
    "plt.bar(Sentiment_count.index.values, Sentiment_count['tweet'])\n",
    "plt.xlabel('Review Sentiments')\n",
    "plt.ylabel('Number of Review')\n",
    "plt.show()"
   ]
  },
  {
   "cell_type": "code",
   "execution_count": 6,
   "metadata": {},
   "outputs": [],
   "source": [
    "# from sklearn.feature_extraction.text import CountVectorizer\n",
    "# from nltk.tokenize import RegexpTokenizer\n",
    "\n",
    "# #tokenizer to remove unwanted elements from out data like symbols and numbers\n",
    "# token = RegexpTokenizer(r'[a-zA-Z0-9]+')\n",
    "# cv = CountVectorizer(lowercase=True,stop_words='english',ngram_range = (1,1),tokenizer = token.tokenize)\n",
    "# text_counts= cv.fit_transform(df['tweet'])"
   ]
  },
  {
   "cell_type": "code",
   "execution_count": 7,
   "metadata": {},
   "outputs": [],
   "source": [
    "# from sklearn.model_selection import train_test_split\n",
    "# X_train, X_test, y_train, y_test = train_test_split(\n",
    "#     text_counts, df['label'], test_size=0.3, random_state=1)"
   ]
  },
  {
   "cell_type": "code",
   "execution_count": 8,
   "metadata": {},
   "outputs": [],
   "source": [
    "# from sklearn.naive_bayes import MultinomialNB\n",
    "# #Import scikit-learn metrics module for accuracy calculation\n",
    "# from sklearn import metrics\n",
    "# # Model Generation Using Multinomial Naive Bayes\n",
    "# clf = MultinomialNB().fit(X_train, y_train)\n",
    "# predicted= clf.predict(X_test)\n",
    "# print(\"MultinomialNB Accuracy:\",metrics.accuracy_score(y_test, predicted))"
   ]
  },
  {
   "cell_type": "markdown",
   "metadata": {},
   "source": [
    "### JS file converted to CSV, modifying column names and labels (True/False Boolean -> 0,1)"
   ]
  },
  {
   "cell_type": "code",
   "execution_count": 9,
   "metadata": {},
   "outputs": [],
   "source": [
    "df_extra = pd.read_csv('trainTweets.csv')"
   ]
  },
  {
   "cell_type": "code",
   "execution_count": 10,
   "metadata": {},
   "outputs": [
    {
     "data": {
      "text/html": [
       "<div>\n",
       "<style scoped>\n",
       "    .dataframe tbody tr th:only-of-type {\n",
       "        vertical-align: middle;\n",
       "    }\n",
       "\n",
       "    .dataframe tbody tr th {\n",
       "        vertical-align: top;\n",
       "    }\n",
       "\n",
       "    .dataframe thead th {\n",
       "        text-align: right;\n",
       "    }\n",
       "</style>\n",
       "<table border=\"1\" class=\"dataframe\">\n",
       "  <thead>\n",
       "    <tr style=\"text-align: right;\">\n",
       "      <th></th>\n",
       "      <th>classification</th>\n",
       "      <th>tweet</th>\n",
       "    </tr>\n",
       "  </thead>\n",
       "  <tbody>\n",
       "    <tr>\n",
       "      <td>0</td>\n",
       "      <td>True</td>\n",
       "      <td>rt @_makada_ muslim refugee charged with beati...</td>\n",
       "    </tr>\n",
       "    <tr>\n",
       "      <td>1</td>\n",
       "      <td>True</td>\n",
       "      <td>rt @_makada_ muslim refugee charged with beati...</td>\n",
       "    </tr>\n",
       "    <tr>\n",
       "      <td>2</td>\n",
       "      <td>True</td>\n",
       "      <td>rt @johnkstahlusa there\\'s something wrong wit...</td>\n",
       "    </tr>\n",
       "    <tr>\n",
       "      <td>3</td>\n",
       "      <td>True</td>\n",
       "      <td>trouble is it\\'s all dem-friendly spending  pl...</td>\n",
       "    </tr>\n",
       "    <tr>\n",
       "      <td>4</td>\n",
       "      <td>True</td>\n",
       "      <td>rt @amike4761 muslim refugees decline work say...</td>\n",
       "    </tr>\n",
       "  </tbody>\n",
       "</table>\n",
       "</div>"
      ],
      "text/plain": [
       "    classification                                              tweet\n",
       "0             True  rt @_makada_ muslim refugee charged with beati...\n",
       "1             True  rt @_makada_ muslim refugee charged with beati...\n",
       "2             True  rt @johnkstahlusa there\\'s something wrong wit...\n",
       "3             True  trouble is it\\'s all dem-friendly spending  pl...\n",
       "4             True  rt @amike4761 muslim refugees decline work say..."
      ]
     },
     "execution_count": 10,
     "metadata": {},
     "output_type": "execute_result"
    }
   ],
   "source": [
    "df_extra.head()"
   ]
  },
  {
   "cell_type": "code",
   "execution_count": 11,
   "metadata": {},
   "outputs": [
    {
     "name": "stdout",
     "output_type": "stream",
     "text": [
      "<class 'pandas.core.frame.DataFrame'>\n",
      "RangeIndex: 678 entries, 0 to 677\n",
      "Data columns (total 2 columns):\n",
      " classification    678 non-null bool\n",
      "tweet              678 non-null object\n",
      "dtypes: bool(1), object(1)\n",
      "memory usage: 6.1+ KB\n"
     ]
    }
   ],
   "source": [
    "df_extra.info()"
   ]
  },
  {
   "cell_type": "code",
   "execution_count": 12,
   "metadata": {},
   "outputs": [],
   "source": [
    "## inserting ids starting from len(df) + 1\n",
    "ids = list(range(len(df)+1, len(df)+len(df_extra)+1))\n",
    "df_extra.insert(0, 'id', ids)"
   ]
  },
  {
   "cell_type": "code",
   "execution_count": 13,
   "metadata": {},
   "outputs": [
    {
     "data": {
      "text/html": [
       "<div>\n",
       "<style scoped>\n",
       "    .dataframe tbody tr th:only-of-type {\n",
       "        vertical-align: middle;\n",
       "    }\n",
       "\n",
       "    .dataframe tbody tr th {\n",
       "        vertical-align: top;\n",
       "    }\n",
       "\n",
       "    .dataframe thead th {\n",
       "        text-align: right;\n",
       "    }\n",
       "</style>\n",
       "<table border=\"1\" class=\"dataframe\">\n",
       "  <thead>\n",
       "    <tr style=\"text-align: right;\">\n",
       "      <th></th>\n",
       "      <th>id</th>\n",
       "      <th>classification</th>\n",
       "      <th>tweet</th>\n",
       "    </tr>\n",
       "  </thead>\n",
       "  <tbody>\n",
       "    <tr>\n",
       "      <td>0</td>\n",
       "      <td>31963</td>\n",
       "      <td>True</td>\n",
       "      <td>rt @_makada_ muslim refugee charged with beati...</td>\n",
       "    </tr>\n",
       "    <tr>\n",
       "      <td>1</td>\n",
       "      <td>31964</td>\n",
       "      <td>True</td>\n",
       "      <td>rt @_makada_ muslim refugee charged with beati...</td>\n",
       "    </tr>\n",
       "    <tr>\n",
       "      <td>2</td>\n",
       "      <td>31965</td>\n",
       "      <td>True</td>\n",
       "      <td>rt @johnkstahlusa there\\'s something wrong wit...</td>\n",
       "    </tr>\n",
       "    <tr>\n",
       "      <td>3</td>\n",
       "      <td>31966</td>\n",
       "      <td>True</td>\n",
       "      <td>trouble is it\\'s all dem-friendly spending  pl...</td>\n",
       "    </tr>\n",
       "    <tr>\n",
       "      <td>4</td>\n",
       "      <td>31967</td>\n",
       "      <td>True</td>\n",
       "      <td>rt @amike4761 muslim refugees decline work say...</td>\n",
       "    </tr>\n",
       "  </tbody>\n",
       "</table>\n",
       "</div>"
      ],
      "text/plain": [
       "      id   classification                                              tweet\n",
       "0  31963             True  rt @_makada_ muslim refugee charged with beati...\n",
       "1  31964             True  rt @_makada_ muslim refugee charged with beati...\n",
       "2  31965             True  rt @johnkstahlusa there\\'s something wrong wit...\n",
       "3  31966             True  trouble is it\\'s all dem-friendly spending  pl...\n",
       "4  31967             True  rt @amike4761 muslim refugees decline work say..."
      ]
     },
     "execution_count": 13,
     "metadata": {},
     "output_type": "execute_result"
    }
   ],
   "source": [
    "df_extra.head()"
   ]
  },
  {
   "cell_type": "code",
   "execution_count": 14,
   "metadata": {},
   "outputs": [],
   "source": [
    "## couldn't rename bc it had space up front\n",
    "df_extra = df_extra.rename(columns={'id':'id', ' classification':'label', 'tweet':'tweet'})\n"
   ]
  },
  {
   "cell_type": "code",
   "execution_count": 15,
   "metadata": {
    "scrolled": true
   },
   "outputs": [
    {
     "name": "stdout",
     "output_type": "stream",
     "text": [
      "<class 'pandas.core.frame.DataFrame'>\n",
      "RangeIndex: 678 entries, 0 to 677\n",
      "Data columns (total 3 columns):\n",
      "id       678 non-null int64\n",
      "label    678 non-null bool\n",
      "tweet    678 non-null object\n",
      "dtypes: bool(1), int64(1), object(1)\n",
      "memory usage: 11.4+ KB\n"
     ]
    }
   ],
   "source": [
    "df_extra.info()"
   ]
  },
  {
   "cell_type": "code",
   "execution_count": 16,
   "metadata": {},
   "outputs": [],
   "source": [
    "#for i in range(len(df_extra)):\n",
    "    #if df_extra['label'][i] == True:\n",
    "        #df_extra['label'][i] = 1 #hate speech present\n",
    "    #else:\n",
    "        #df_extra['label'][i] = 0"
   ]
  },
  {
   "cell_type": "code",
   "execution_count": 17,
   "metadata": {},
   "outputs": [
    {
     "data": {
      "text/plain": [
       "True     339\n",
       "False    339\n",
       "Name: label, dtype: int64"
      ]
     },
     "execution_count": 17,
     "metadata": {},
     "output_type": "execute_result"
    }
   ],
   "source": [
    "df_extra.label.value_counts()"
   ]
  },
  {
   "cell_type": "code",
   "execution_count": 18,
   "metadata": {},
   "outputs": [],
   "source": [
    "## changing bool to int\n",
    "## True as 1, False as 0\n",
    "\n",
    "df_extra[\"label\"] = df_extra[\"label\"].astype(int)"
   ]
  },
  {
   "cell_type": "code",
   "execution_count": 19,
   "metadata": {},
   "outputs": [
    {
     "data": {
      "text/html": [
       "<div>\n",
       "<style scoped>\n",
       "    .dataframe tbody tr th:only-of-type {\n",
       "        vertical-align: middle;\n",
       "    }\n",
       "\n",
       "    .dataframe tbody tr th {\n",
       "        vertical-align: top;\n",
       "    }\n",
       "\n",
       "    .dataframe thead th {\n",
       "        text-align: right;\n",
       "    }\n",
       "</style>\n",
       "<table border=\"1\" class=\"dataframe\">\n",
       "  <thead>\n",
       "    <tr style=\"text-align: right;\">\n",
       "      <th></th>\n",
       "      <th>id</th>\n",
       "      <th>label</th>\n",
       "      <th>tweet</th>\n",
       "    </tr>\n",
       "  </thead>\n",
       "  <tbody>\n",
       "    <tr>\n",
       "      <td>0</td>\n",
       "      <td>31963</td>\n",
       "      <td>1</td>\n",
       "      <td>rt @_makada_ muslim refugee charged with beati...</td>\n",
       "    </tr>\n",
       "    <tr>\n",
       "      <td>1</td>\n",
       "      <td>31964</td>\n",
       "      <td>1</td>\n",
       "      <td>rt @_makada_ muslim refugee charged with beati...</td>\n",
       "    </tr>\n",
       "    <tr>\n",
       "      <td>2</td>\n",
       "      <td>31965</td>\n",
       "      <td>1</td>\n",
       "      <td>rt @johnkstahlusa there\\'s something wrong wit...</td>\n",
       "    </tr>\n",
       "    <tr>\n",
       "      <td>3</td>\n",
       "      <td>31966</td>\n",
       "      <td>1</td>\n",
       "      <td>trouble is it\\'s all dem-friendly spending  pl...</td>\n",
       "    </tr>\n",
       "    <tr>\n",
       "      <td>4</td>\n",
       "      <td>31967</td>\n",
       "      <td>1</td>\n",
       "      <td>rt @amike4761 muslim refugees decline work say...</td>\n",
       "    </tr>\n",
       "  </tbody>\n",
       "</table>\n",
       "</div>"
      ],
      "text/plain": [
       "      id  label                                              tweet\n",
       "0  31963      1  rt @_makada_ muslim refugee charged with beati...\n",
       "1  31964      1  rt @_makada_ muslim refugee charged with beati...\n",
       "2  31965      1  rt @johnkstahlusa there\\'s something wrong wit...\n",
       "3  31966      1  trouble is it\\'s all dem-friendly spending  pl...\n",
       "4  31967      1  rt @amike4761 muslim refugees decline work say..."
      ]
     },
     "execution_count": 19,
     "metadata": {},
     "output_type": "execute_result"
    }
   ],
   "source": [
    "df_extra.head()"
   ]
  },
  {
   "cell_type": "code",
   "execution_count": 20,
   "metadata": {},
   "outputs": [
    {
     "data": {
      "text/plain": [
       "1    339\n",
       "0    339\n",
       "Name: label, dtype: int64"
      ]
     },
     "execution_count": 20,
     "metadata": {},
     "output_type": "execute_result"
    }
   ],
   "source": [
    "df_extra.label.value_counts()"
   ]
  },
  {
   "cell_type": "markdown",
   "metadata": {},
   "source": [
    "#### Merging two datasets:"
   ]
  },
  {
   "cell_type": "code",
   "execution_count": 21,
   "metadata": {},
   "outputs": [],
   "source": [
    "data = df.append(df_extra, ignore_index=True, verify_integrity=False, sort=False)"
   ]
  },
  {
   "cell_type": "code",
   "execution_count": 22,
   "metadata": {
    "scrolled": true
   },
   "outputs": [
    {
     "data": {
      "text/plain": [
       "0    30059\n",
       "1     2581\n",
       "Name: label, dtype: int64"
      ]
     },
     "execution_count": 22,
     "metadata": {},
     "output_type": "execute_result"
    }
   ],
   "source": [
    "data.label.value_counts()"
   ]
  },
  {
   "cell_type": "code",
   "execution_count": 23,
   "metadata": {},
   "outputs": [
    {
     "data": {
      "text/html": [
       "<div>\n",
       "<style scoped>\n",
       "    .dataframe tbody tr th:only-of-type {\n",
       "        vertical-align: middle;\n",
       "    }\n",
       "\n",
       "    .dataframe tbody tr th {\n",
       "        vertical-align: top;\n",
       "    }\n",
       "\n",
       "    .dataframe thead th {\n",
       "        text-align: right;\n",
       "    }\n",
       "</style>\n",
       "<table border=\"1\" class=\"dataframe\">\n",
       "  <thead>\n",
       "    <tr style=\"text-align: right;\">\n",
       "      <th></th>\n",
       "      <th>id</th>\n",
       "      <th>label</th>\n",
       "      <th>tweet</th>\n",
       "    </tr>\n",
       "  </thead>\n",
       "  <tbody>\n",
       "    <tr>\n",
       "      <td>0</td>\n",
       "      <td>1</td>\n",
       "      <td>0</td>\n",
       "      <td>@user when a father is dysfunctional and is s...</td>\n",
       "    </tr>\n",
       "    <tr>\n",
       "      <td>1</td>\n",
       "      <td>2</td>\n",
       "      <td>0</td>\n",
       "      <td>@user @user thanks for #lyft credit i can't us...</td>\n",
       "    </tr>\n",
       "    <tr>\n",
       "      <td>2</td>\n",
       "      <td>3</td>\n",
       "      <td>0</td>\n",
       "      <td>bihday your majesty</td>\n",
       "    </tr>\n",
       "    <tr>\n",
       "      <td>3</td>\n",
       "      <td>4</td>\n",
       "      <td>0</td>\n",
       "      <td>#model   i love u take with u all the time in ...</td>\n",
       "    </tr>\n",
       "    <tr>\n",
       "      <td>4</td>\n",
       "      <td>5</td>\n",
       "      <td>0</td>\n",
       "      <td>factsguide: society now    #motivation</td>\n",
       "    </tr>\n",
       "  </tbody>\n",
       "</table>\n",
       "</div>"
      ],
      "text/plain": [
       "   id  label                                              tweet\n",
       "0   1      0   @user when a father is dysfunctional and is s...\n",
       "1   2      0  @user @user thanks for #lyft credit i can't us...\n",
       "2   3      0                                bihday your majesty\n",
       "3   4      0  #model   i love u take with u all the time in ...\n",
       "4   5      0             factsguide: society now    #motivation"
      ]
     },
     "execution_count": 23,
     "metadata": {},
     "output_type": "execute_result"
    }
   ],
   "source": [
    "data.head()"
   ]
  },
  {
   "cell_type": "code",
   "execution_count": 24,
   "metadata": {},
   "outputs": [
    {
     "name": "stdout",
     "output_type": "stream",
     "text": [
      "<class 'pandas.core.frame.DataFrame'>\n",
      "RangeIndex: 32640 entries, 0 to 32639\n",
      "Data columns (total 3 columns):\n",
      "id       32640 non-null int64\n",
      "label    32640 non-null int64\n",
      "tweet    32640 non-null object\n",
      "dtypes: int64(2), object(1)\n",
      "memory usage: 765.1+ KB\n"
     ]
    }
   ],
   "source": [
    "data.info()"
   ]
  },
  {
   "cell_type": "code",
   "execution_count": 25,
   "metadata": {
    "scrolled": false
   },
   "outputs": [
    {
     "data": {
      "image/png": "[encoded data removed]",
      "text/plain": [
       "<Figure size 432x288 with 1 Axes>"
      ]
     },
     "metadata": {
      "needs_background": "light"
     },
     "output_type": "display_data"
    }
   ],
   "source": [
    "import matplotlib.pyplot as plt\n",
    "\n",
    "Sentiment_count = data.groupby('label').count()\n",
    "\n",
    "plt.bar(Sentiment_count.index.values, Sentiment_count['tweet'])\n",
    "plt.xlabel('Review Sentiments')\n",
    "plt.ylabel('Number of Review')\n",
    "plt.show()\n",
    "\n",
    "## x-axis doesn't make sense, change to 0 and 1"
   ]
  },
  {
   "cell_type": "markdown",
   "metadata": {},
   "source": [
    "### EDA "
   ]
  },
  {
   "cell_type": "markdown",
   "metadata": {},
   "source": [
    "4. Looking at the frequency of hate speech and non-hate speech data (Histogram)\n",
    "\n",
    "5. Making a distribution of the length of\n",
    "\n",
    "5.0 all tweets,\n",
    "\n",
    "5.1 hate-speech tweets,\n",
    "\n",
    "5.2 non-hate-speech tweets\n",
    "\n",
    "6. Making a data visualization of word frequencies - wordcloud OR histogram\n",
    "\n",
    "6.1 for hate-speech\n",
    "\n",
    "6.2 for non-hate speech\n",
    "\n",
    "7. (maybe) Data visualization for retweet frequencies"
   ]
  },
  {
   "cell_type": "code",
   "execution_count": 26,
   "metadata": {},
   "outputs": [
    {
     "data": {
      "image/png": "[encoded data removed]",
      "text/plain": [
       "<Figure size 432x288 with 1 Axes>"
      ]
     },
     "metadata": {
      "needs_background": "light"
     },
     "output_type": "display_data"
    }
   ],
   "source": [
    "# change x-axis\n",
    "\n",
    "import matplotlib.pyplot as plt\n",
    "\n",
    "Sentiment_count = data.groupby('label').count()\n",
    "\n",
    "plt.bar(Sentiment_count.index.values, Sentiment_count['tweet'])\n",
    "plt.xlabel('Review Sentiments')\n",
    "plt.ylabel('Number of Review')\n",
    "plt.show()"
   ]
  },
  {
   "cell_type": "code",
   "execution_count": 65,
   "metadata": {},
   "outputs": [
    {
     "data": {
      "image/png": "[encoded data removed]",
      "text/plain": [
       "<Figure size 432x288 with 1 Axes>"
      ]
     },
     "metadata": {
      "needs_background": "light"
     },
     "output_type": "display_data"
    }
   ],
   "source": [
    "# the length distribution of all tweets\n",
    "#data.head()\n",
    "length_tweets = []\n",
    "\n",
    "for i in range(len(data)):\n",
    "    length_tweets.append(len(data.tweet[i]))\n",
    "\n",
    "plt.hist(length_tweets)\n",
    "plt.show()"
   ]
  },
  {
   "cell_type": "markdown",
   "metadata": {},
   "source": [
    "#### Splitting dataset into non-hate speech and hate speech"
   ]
  },
  {
   "cell_type": "code",
   "execution_count": 53,
   "metadata": {},
   "outputs": [],
   "source": [
    "data_hate = data.loc[data.label==1]\n",
    "data_no_hate = data.loc[data.label==0]"
   ]
  },
  {
   "cell_type": "code",
   "execution_count": 56,
   "metadata": {},
   "outputs": [
    {
     "data": {
      "text/plain": [
       "\"@user #cnn calls #michigan middle school 'build the wall' chant '' #tcot  \""
      ]
     },
     "execution_count": 56,
     "metadata": {},
     "output_type": "execute_result"
    }
   ],
   "source": [
    "#data_hate.tweet.iloc[0]"
   ]
  },
  {
   "cell_type": "code",
   "execution_count": 63,
   "metadata": {},
   "outputs": [
    {
     "data": {
      "image/png": "[encoded data removed]",
      "text/plain": [
       "<Figure size 432x288 with 1 Axes>"
      ]
     },
     "metadata": {
      "needs_background": "light"
     },
     "output_type": "display_data"
    }
   ],
   "source": [
    "# the length distribution of all tweets that include hate speech\n",
    "#data.head()\n",
    "length_tweets_h = []\n",
    "\n",
    "for i in range(len(data_hate)):\n",
    "    length_tweets_h.append(len(data_hate.tweet.iloc[i]))\n",
    "\n",
    "plt.hist(length_tweets_h, bins=20)\n",
    "plt.show()"
   ]
  },
  {
   "cell_type": "code",
   "execution_count": 70,
   "metadata": {
    "scrolled": false
   },
   "outputs": [
    {
     "data": {
      "image/png": "[encoded data removed]",
      "text/plain": [
       "<Figure size 432x288 with 1 Axes>"
      ]
     },
     "metadata": {
      "needs_background": "light"
     },
     "output_type": "display_data"
    }
   ],
   "source": [
    "# the length distribution of all tweets that do not include hate speech\n",
    "#data.head()\n",
    "length_tweets_nh = []\n",
    "\n",
    "for i in range(len(data_no_hate)):\n",
    "    length_tweets_nh.append(len(data_no_hate.tweet.iloc[i]))\n",
    "\n",
    "plt.hist(length_tweets_nh, density=True, alpha=0.5) + plt.hist(length_tweets_h, density=True, alpha=0.5)\n",
    "plt.show()"
   ]
  },
  {
   "cell_type": "markdown",
   "metadata": {},
   "source": [
    "#### Analysis and Conclusion\n",
    "- no significant difference in between lengths of hate and non-hate tweets\n",
    "-> look into distributions of words"
   ]
  },
  {
   "cell_type": "code",
   "execution_count": null,
   "metadata": {},
   "outputs": [],
   "source": [
    "#conda install -c conda-forge wordcloud"
   ]
  },
  {
   "cell_type": "code",
   "execution_count": null,
   "metadata": {},
   "outputs": [],
   "source": []
  },
  {
   "cell_type": "code",
   "execution_count": null,
   "metadata": {},
   "outputs": [],
   "source": []
  },
  {
   "cell_type": "code",
   "execution_count": null,
   "metadata": {},
   "outputs": [],
   "source": []
  },
  {
   "cell_type": "code",
   "execution_count": 35,
   "metadata": {},
   "outputs": [],
   "source": [
    "import nltk"
   ]
  },
  {
   "cell_type": "code",
   "execution_count": 36,
   "metadata": {},
   "outputs": [],
   "source": [
    "## iloc[]\n",
    "\n",
    "from nltk.tokenize import word_tokenize\n",
    "\n",
    "# x - what's in any row\n",
    "\n",
    "# tokenize and lower()\n",
    "data['tweet_token'] = data['tweet'].apply(lambda x: word_tokenize(x.lower()))\n",
    "\n",
    "#data['tweet_token'] = ''\n",
    "#for i in range(len(data)):\n",
    "    #text = data['tweet'].iloc[i] \n",
    "    #tokenized_text = word_tokenize(text)"
   ]
  },
  {
   "cell_type": "code",
   "execution_count": 37,
   "metadata": {},
   "outputs": [
    {
     "data": {
      "text/html": [
       "<div>\n",
       "<style scoped>\n",
       "    .dataframe tbody tr th:only-of-type {\n",
       "        vertical-align: middle;\n",
       "    }\n",
       "\n",
       "    .dataframe tbody tr th {\n",
       "        vertical-align: top;\n",
       "    }\n",
       "\n",
       "    .dataframe thead th {\n",
       "        text-align: right;\n",
       "    }\n",
       "</style>\n",
       "<table border=\"1\" class=\"dataframe\">\n",
       "  <thead>\n",
       "    <tr style=\"text-align: right;\">\n",
       "      <th></th>\n",
       "      <th>id</th>\n",
       "      <th>label</th>\n",
       "      <th>tweet</th>\n",
       "      <th>tweet_token</th>\n",
       "    </tr>\n",
       "  </thead>\n",
       "  <tbody>\n",
       "    <tr>\n",
       "      <td>0</td>\n",
       "      <td>1</td>\n",
       "      <td>0</td>\n",
       "      <td>@user when a father is dysfunctional and is s...</td>\n",
       "      <td>[@, user, when, a, father, is, dysfunctional, ...</td>\n",
       "    </tr>\n",
       "    <tr>\n",
       "      <td>1</td>\n",
       "      <td>2</td>\n",
       "      <td>0</td>\n",
       "      <td>@user @user thanks for #lyft credit i can't us...</td>\n",
       "      <td>[@, user, @, user, thanks, for, #, lyft, credi...</td>\n",
       "    </tr>\n",
       "    <tr>\n",
       "      <td>2</td>\n",
       "      <td>3</td>\n",
       "      <td>0</td>\n",
       "      <td>bihday your majesty</td>\n",
       "      <td>[bihday, your, majesty]</td>\n",
       "    </tr>\n",
       "    <tr>\n",
       "      <td>3</td>\n",
       "      <td>4</td>\n",
       "      <td>0</td>\n",
       "      <td>#model   i love u take with u all the time in ...</td>\n",
       "      <td>[#, model, i, love, u, take, with, u, all, the...</td>\n",
       "    </tr>\n",
       "    <tr>\n",
       "      <td>4</td>\n",
       "      <td>5</td>\n",
       "      <td>0</td>\n",
       "      <td>factsguide: society now    #motivation</td>\n",
       "      <td>[factsguide, :, society, now, #, motivation]</td>\n",
       "    </tr>\n",
       "  </tbody>\n",
       "</table>\n",
       "</div>"
      ],
      "text/plain": [
       "   id  label                                              tweet  \\\n",
       "0   1      0   @user when a father is dysfunctional and is s...   \n",
       "1   2      0  @user @user thanks for #lyft credit i can't us...   \n",
       "2   3      0                                bihday your majesty   \n",
       "3   4      0  #model   i love u take with u all the time in ...   \n",
       "4   5      0             factsguide: society now    #motivation   \n",
       "\n",
       "                                         tweet_token  \n",
       "0  [@, user, when, a, father, is, dysfunctional, ...  \n",
       "1  [@, user, @, user, thanks, for, #, lyft, credi...  \n",
       "2                            [bihday, your, majesty]  \n",
       "3  [#, model, i, love, u, take, with, u, all, the...  \n",
       "4       [factsguide, :, society, now, #, motivation]  "
      ]
     },
     "execution_count": 37,
     "metadata": {},
     "output_type": "execute_result"
    }
   ],
   "source": [
    "data.head()"
   ]
  },
  {
   "cell_type": "code",
   "execution_count": 38,
   "metadata": {
    "scrolled": true
   },
   "outputs": [
    {
     "data": {
      "text/plain": [
       "13       [@, user, #, cnn, calls, #, michigan, middle, ...\n",
       "14       [no, comment, !, in, #, australia, #, opkillin...\n",
       "17                            [retweet, if, you, agree, !]\n",
       "23       [@, user, @, user, lumpy, says, i, am, a, ., p...\n",
       "34       [it, 's, unbelievable, that, in, the, 21st, ce...\n",
       "                               ...                        \n",
       "32296    [yeah, yeah, yeah, ., ., poor, you, ., ., ., y...\n",
       "32297    [@, foxnews, @, love_the_donald, how, about, f...\n",
       "32298                 [bitch, you, look, like, a, refugee]\n",
       "32299    [this, is, not, the, idea, for, refugees, who,...\n",
       "32300    [#, sanctuarycities, ethiopian, \\'refugee\\, ',...\n",
       "Name: tweet_token, Length: 2581, dtype: object"
      ]
     },
     "execution_count": 38,
     "metadata": {},
     "output_type": "execute_result"
    }
   ],
   "source": [
    "## Boolean filters\n",
    "#data[data.label == 1] #hate speech tweets\n",
    "data.loc[data.label==1, 'tweet_token']"
   ]
  },
  {
   "cell_type": "code",
   "execution_count": 39,
   "metadata": {},
   "outputs": [],
   "source": [
    "# removing stopwords - using NLTK\n",
    "\n",
    "from nltk.corpus import stopwords\n",
    "stop_words = set(stopwords.words(\"english\"))\n",
    "\n",
    "#stop_words"
   ]
  },
  {
   "cell_type": "code",
   "execution_count": 40,
   "metadata": {},
   "outputs": [
    {
     "data": {
      "text/plain": [
       "0        [@, user, when, a, father, is, dysfunctional, ...\n",
       "1        [@, user, @, user, thanks, for, #, lyft, credi...\n",
       "2                                  [bihday, your, majesty]\n",
       "3        [#, model, i, love, u, take, with, u, all, the...\n",
       "4             [factsguide, :, society, now, #, motivation]\n",
       "                               ...                        \n",
       "32635    [#, eus, treatment, of, lone, #, children, was...\n",
       "32636    [rt, @, chakerkhazaal, \\, ', #, einstein, was,...\n",
       "32637    [rt, @, ticley, god, help, those, poor, refuge...\n",
       "32638    [success, from, refugee, to, neurobiologist, h...\n",
       "32639    [rt, @, hasasimo, #, syria, refugee, helps, fu...\n",
       "Name: tweet_token, Length: 32640, dtype: object"
      ]
     },
     "execution_count": 40,
     "metadata": {},
     "output_type": "execute_result"
    }
   ],
   "source": [
    "data.tweet_token"
   ]
  },
  {
   "cell_type": "code",
   "execution_count": 41,
   "metadata": {
    "scrolled": false
   },
   "outputs": [
    {
     "data": {
      "text/html": [
       "<div>\n",
       "<style scoped>\n",
       "    .dataframe tbody tr th:only-of-type {\n",
       "        vertical-align: middle;\n",
       "    }\n",
       "\n",
       "    .dataframe tbody tr th {\n",
       "        vertical-align: top;\n",
       "    }\n",
       "\n",
       "    .dataframe thead th {\n",
       "        text-align: right;\n",
       "    }\n",
       "</style>\n",
       "<table border=\"1\" class=\"dataframe\">\n",
       "  <thead>\n",
       "    <tr style=\"text-align: right;\">\n",
       "      <th></th>\n",
       "      <th>id</th>\n",
       "      <th>label</th>\n",
       "      <th>tweet</th>\n",
       "      <th>tweet_token</th>\n",
       "      <th>token_clean</th>\n",
       "    </tr>\n",
       "  </thead>\n",
       "  <tbody>\n",
       "    <tr>\n",
       "      <td>0</td>\n",
       "      <td>1</td>\n",
       "      <td>0</td>\n",
       "      <td>@user when a father is dysfunctional and is s...</td>\n",
       "      <td>[@, user, when, a, father, is, dysfunctional, ...</td>\n",
       "      <td>[@, user, father, dysfunctional, selfish, drag...</td>\n",
       "    </tr>\n",
       "    <tr>\n",
       "      <td>1</td>\n",
       "      <td>2</td>\n",
       "      <td>0</td>\n",
       "      <td>@user @user thanks for #lyft credit i can't us...</td>\n",
       "      <td>[@, user, @, user, thanks, for, #, lyft, credi...</td>\n",
       "      <td>[@, user, @, user, thanks, #, lyft, credit, ca...</td>\n",
       "    </tr>\n",
       "    <tr>\n",
       "      <td>2</td>\n",
       "      <td>3</td>\n",
       "      <td>0</td>\n",
       "      <td>bihday your majesty</td>\n",
       "      <td>[bihday, your, majesty]</td>\n",
       "      <td>[bihday, majesty]</td>\n",
       "    </tr>\n",
       "    <tr>\n",
       "      <td>3</td>\n",
       "      <td>4</td>\n",
       "      <td>0</td>\n",
       "      <td>#model   i love u take with u all the time in ...</td>\n",
       "      <td>[#, model, i, love, u, take, with, u, all, the...</td>\n",
       "      <td>[#, model, love, u, take, u, time, urð±, !, ...</td>\n",
       "    </tr>\n",
       "    <tr>\n",
       "      <td>4</td>\n",
       "      <td>5</td>\n",
       "      <td>0</td>\n",
       "      <td>factsguide: society now    #motivation</td>\n",
       "      <td>[factsguide, :, society, now, #, motivation]</td>\n",
       "      <td>[factsguide, :, society, #, motivation]</td>\n",
       "    </tr>\n",
       "  </tbody>\n",
       "</table>\n",
       "</div>"
      ],
      "text/plain": [
       "   id  label                                              tweet  \\\n",
       "0   1      0   @user when a father is dysfunctional and is s...   \n",
       "1   2      0  @user @user thanks for #lyft credit i can't us...   \n",
       "2   3      0                                bihday your majesty   \n",
       "3   4      0  #model   i love u take with u all the time in ...   \n",
       "4   5      0             factsguide: society now    #motivation   \n",
       "\n",
       "                                         tweet_token  \\\n",
       "0  [@, user, when, a, father, is, dysfunctional, ...   \n",
       "1  [@, user, @, user, thanks, for, #, lyft, credi...   \n",
       "2                            [bihday, your, majesty]   \n",
       "3  [#, model, i, love, u, take, with, u, all, the...   \n",
       "4       [factsguide, :, society, now, #, motivation]   \n",
       "\n",
       "                                         token_clean  \n",
       "0  [@, user, father, dysfunctional, selfish, drag...  \n",
       "1  [@, user, @, user, thanks, #, lyft, credit, ca...  \n",
       "2                                  [bihday, majesty]  \n",
       "3  [#, model, love, u, take, u, time, urð±, !, ...  \n",
       "4            [factsguide, :, society, #, motivation]  "
      ]
     },
     "execution_count": 41,
     "metadata": {},
     "output_type": "execute_result"
    }
   ],
   "source": [
    "#filtered_sent = []\n",
    "\n",
    "data['token_clean'] = data['tweet_token'].apply(lambda x: [w for w in x if w not in stop_words])\n",
    "data.head()"
   ]
  },
  {
   "cell_type": "code",
   "execution_count": 42,
   "metadata": {},
   "outputs": [
    {
     "name": "stdout",
     "output_type": "stream",
     "text": [
      "['!', '\"', '#', '$', '%', '&', \"'\", '(', ')', '*', '+', ',', '-', '.', '/', ':', ';', '<', '=', '>', '?', '@', '[', '\\\\', ']', '^', '_', '`', '{', '|', '}', '~']\n"
     ]
    }
   ],
   "source": [
    "import string\n",
    "\n",
    "list_punctuation = []\n",
    "for ch in string.punctuation:\n",
    "    list_punctuation.append(ch)\n",
    "    \n",
    "print(list_punctuation)"
   ]
  },
  {
   "cell_type": "code",
   "execution_count": 43,
   "metadata": {
    "scrolled": false
   },
   "outputs": [
    {
     "data": {
      "text/plain": [
       "0        [user, father, dysfunctional, selfish, drags, ...\n",
       "1        [user, user, thanks, lyft, credit, ca, n't, us...\n",
       "2                                        [bihday, majesty]\n",
       "3        [model, love, u, take, u, time, urð±, ðð...\n",
       "4                        [factsguide, society, motivation]\n",
       "                               ...                        \n",
       "32635    [eus, treatment, lone, children, one, shameful...\n",
       "32636    [rt, chakerkhazaal, einstein, refugee, world, ...\n",
       "32637    [rt, ticley, god, help, poor, refugees, frump,...\n",
       "32638    [success, refugee, neurobiologist, arrived, sw...\n",
       "32639    [rt, hasasimo, syria, refugee, helps, fulfill,...\n",
       "Name: token_cleaner, Length: 32640, dtype: object"
      ]
     },
     "execution_count": 43,
     "metadata": {},
     "output_type": "execute_result"
    }
   ],
   "source": [
    "# removing punctuation\n",
    "# import standard punctuation, remove\n",
    "\n",
    "import string\n",
    "\n",
    "data['token_cleaner'] = data['token_clean'].apply(lambda x: [w for w in x if w not in list_punctuation])\n",
    "\n",
    "data['token_cleaner']"
   ]
  },
  {
   "cell_type": "code",
   "execution_count": 44,
   "metadata": {},
   "outputs": [],
   "source": [
    "#list(string.ascii_lowercase)"
   ]
  },
  {
   "cell_type": "code",
   "execution_count": 45,
   "metadata": {},
   "outputs": [],
   "source": [
    "import string\n",
    "\n",
    "#string.printable\n",
    "\n",
    "#https://stackoverflow.com/questions/5891453/how-do-i-get-a-list-of-all-the-ascii-characters-using-python\n",
    "#https://www.w3schools.com/charsets/ref_html_ascii.asp"
   ]
  },
  {
   "cell_type": "code",
   "execution_count": 46,
   "metadata": {
    "scrolled": true
   },
   "outputs": [
    {
     "data": {
      "text/plain": [
       "0        [user, father, dysfunctional, selfish, drags, ...\n",
       "1        [user, user, thanks, lyft, credit, ca, use, ca...\n",
       "2                                        [bihday, majesty]\n",
       "3                          [model, love, u, take, u, time]\n",
       "4                        [factsguide, society, motivation]\n",
       "                               ...                        \n",
       "32635    [eus, treatment, lone, children, one, shameful...\n",
       "32636    [rt, chakerkhazaal, einstein, refugee, world, ...\n",
       "32637    [rt, ticley, god, help, poor, refugees, frump,...\n",
       "32638    [success, refugee, neurobiologist, arrived, sw...\n",
       "32639    [rt, hasasimo, syria, refugee, helps, fulfill,...\n",
       "Name: token_clean_alph, Length: 32640, dtype: object"
      ]
     },
     "execution_count": 46,
     "metadata": {},
     "output_type": "execute_result"
    }
   ],
   "source": [
    "## removing the special characters outside punctuation\n",
    "\n",
    "import string\n",
    "#list_alph = list(string.ascii_lowercase)\n",
    "#list_alph = [chr(i) for i in range(128)][33:]\n",
    "data['token_clean_alph'] = data['token_cleaner'].apply(lambda x: [i for i in x if i.isalpha()])\n",
    "data['token_clean_alph']"
   ]
  },
  {
   "cell_type": "markdown",
   "metadata": {},
   "source": [
    "#### Word frequencies \n",
    "#### Wordcloud of words in the tweets (cleaned tweets, no special characters)"
   ]
  },
  {
   "cell_type": "code",
   "execution_count": 78,
   "metadata": {},
   "outputs": [],
   "source": [
    "from collections import Counter\n",
    "\n",
    "\n",
    "frequency_dict = dict()\n",
    "\n",
    "for each_tweet in range(len(data['token_clean_alph'])):\n",
    "    for word in each_tweet:\n",
    "        if word in frequency_dict: #do this\n",
    "            frequency_dict[word] += 1\n",
    "        else: \n",
    "            frequency_dict[word] = 1"
   ]
  },
  {
   "cell_type": "code",
   "execution_count": null,
   "metadata": {},
   "outputs": [],
   "source": []
  },
  {
   "cell_type": "code",
   "execution_count": 47,
   "metadata": {},
   "outputs": [],
   "source": [
    "#import nltk\n",
    "\n",
    "#nltk.download('words')\n",
    "#words = set(nltk.corpus.words.words())\n",
    "\n",
    "#'hunky-dory' --> ['hunky', 'dory']\n",
    "#'hunky-dory' --> ['hunky-dory']\n",
    "#'hunky-dory' --> ['hunkydory']"
   ]
  },
  {
   "cell_type": "code",
   "execution_count": 48,
   "metadata": {},
   "outputs": [],
   "source": [
    "# retweets - rt - include if it's a retweet or not (new column)\n",
    "# users text - user\n",
    "# weird characters - ð, ±\n",
    "\n",
    "from nltk.stem import PorterStemmer\n",
    "from nltk.tokenize import sent_tokenize, word_tokenize\n",
    "\n",
    "ps = PorterStemmer()\n",
    "\n",
    "data['words_stemmed'] = data['token_clean_alph'].apply(lambda x: [ps.stem(i) for i in x])"
   ]
  },
  {
   "cell_type": "code",
   "execution_count": 49,
   "metadata": {},
   "outputs": [
    {
     "data": {
      "text/plain": [
       "0        [user, father, dysfunct, selfish, drag, kid, d...\n",
       "1        [user, user, thank, lyft, credit, ca, use, cau...\n",
       "2                                        [bihday, majesti]\n",
       "3                          [model, love, u, take, u, time]\n",
       "4                              [factsguid, societi, motiv]\n",
       "                               ...                        \n",
       "32635    [eu, treatment, lone, children, one, shame, as...\n",
       "32636    [rt, chakerkhaza, einstein, refuge, world, tur...\n",
       "32637    [rt, ticley, god, help, poor, refuge, frump, p...\n",
       "32638    [success, refuge, neurobiologist, arriv, switz...\n",
       "32639    [rt, hasasimo, syria, refuge, help, fulfil, fo...\n",
       "Name: words_stemmed, Length: 32640, dtype: object"
      ]
     },
     "execution_count": 49,
     "metadata": {},
     "output_type": "execute_result"
    }
   ],
   "source": [
    "data['words_stemmed']"
   ]
  },
  {
   "cell_type": "code",
   "execution_count": null,
   "metadata": {},
   "outputs": [],
   "source": [
    "# retweets - checking later"
   ]
  },
  {
   "cell_type": "code",
   "execution_count": null,
   "metadata": {},
   "outputs": [],
   "source": [
    "# lemmatization - checking later"
   ]
  },
  {
   "cell_type": "code",
   "execution_count": null,
   "metadata": {},
   "outputs": [],
   "source": [
    "#saving to CSV\n",
    "#data.to_csv('test_tweets_ML.csv', index=False)"
   ]
  },
  {
   "cell_type": "code",
   "execution_count": null,
   "metadata": {},
   "outputs": [],
   "source": [
    "# from sklearn.feature_extraction.text import CountVectorizer\n",
    "# from nltk.tokenize import RegexpTokenizer\n",
    "\n",
    "# #tokenizer to remove unwanted elements from out data like symbols and numbers\n",
    "# token = RegexpTokenizer(r'[a-zA-Z0-9]+')\n",
    "# cv = CountVectorizer(lowercase=True,stop_words='english',ngram_range = (1,1),tokenizer = token.tokenize)\n",
    "# text_counts= cv.fit_transform(data['tweet'])\n",
    "\n",
    "# data.to_csv('test_tweets_edit.csv', index=False)"
   ]
  },
  {
   "cell_type": "markdown",
   "metadata": {},
   "source": [
    "### Vectorization"
   ]
  },
  {
   "cell_type": "code",
   "execution_count": null,
   "metadata": {},
   "outputs": [],
   "source": [
    "from sklearn.feature_extraction.text import TfidfVectorizer"
   ]
  },
  {
   "cell_type": "code",
   "execution_count": null,
   "metadata": {},
   "outputs": [],
   "source": [
    "# reference - https://www.davidsbatista.net/blog/2018/02/28/TfidfVectorizer/\n",
    "\n",
    "def dummy_fun(doc):\n",
    "    return doc\n",
    "\n",
    "tfidf = TfidfVectorizer(\n",
    "    analyzer='word',\n",
    "    tokenizer=dummy_fun,\n",
    "    preprocessor=dummy_fun,\n",
    "    token_pattern=None)  "
   ]
  },
  {
   "cell_type": "code",
   "execution_count": null,
   "metadata": {},
   "outputs": [],
   "source": [
    "docs = data['words_stemmed']\n",
    "\n",
    "tfidf.fit(docs)\n",
    "tfidf.vocabulary_"
   ]
  },
  {
   "cell_type": "code",
   "execution_count": null,
   "metadata": {},
   "outputs": [],
   "source": [
    "tfidf.transform(docs)"
   ]
  },
  {
   "cell_type": "code",
   "execution_count": null,
   "metadata": {},
   "outputs": [],
   "source": []
  }
 ],
 "metadata": {
  "kernelspec": {
   "display_name": "Python 3",
   "language": "python",
   "name": "python3"
  },
  "language_info": {
   "codemirror_mode": {
    "name": "ipython",
    "version": 3
   },
   "file_extension": ".py",
   "mimetype": "text/x-python",
   "name": "python",
   "nbconvert_exporter": "python",
   "pygments_lexer": "ipython3",
   "version": "3.7.4"
  }
 },
 "nbformat": 4,
 "nbformat_minor": 2
}
