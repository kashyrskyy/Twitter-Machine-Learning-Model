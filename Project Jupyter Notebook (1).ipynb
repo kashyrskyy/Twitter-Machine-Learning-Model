{
 "cells": [
  {
   "cell_type": "markdown",
   "metadata": {},
   "source": [
    "# Machine Learning Model for Twitter Tweets to Identify Hate Speech"
   ]
  },
  {
   "cell_type": "markdown",
   "metadata": {},
   "source": [
    "The dataset below includes Twitter tweets retrieved from two datasets posted on Kaggle and Github:\n",
    "\n",
    "- Dataset 1 link: Kaggle [LINK TO INPUT].\n",
    "- Dataset 2 link: GitHub [LINK TO INPUT].\n",
    "\n"
   ]
  },
  {
   "cell_type": "markdown",
   "metadata": {},
   "source": [
    "We merge two datasets by initially converting one of them from a JSON file to CSV file. The other dataset was originally in a CSV format. We want to merge the two datasets to diversity the training data and make our model initially more exposed to similar data with tweets from different resources."
   ]
  },
  {
   "cell_type": "markdown",
   "metadata": {},
   "source": [
    "# Data Preprocessing "
   ]
  },
  {
   "cell_type": "markdown",
   "metadata": {},
   "source": [
    "## Data Preprocessing: Dataset #1"
   ]
  },
  {
   "cell_type": "markdown",
   "metadata": {},
   "source": [
    "### Let's take a look at the training dataset, by looking at its first 5 entries, and the information on types of data it includes."
   ]
  },
  {
   "cell_type": "code",
   "execution_count": 1,
   "metadata": {
    "scrolled": true
   },
   "outputs": [],
   "source": [
    "import pandas as pd\n",
    "import numpy as np\n",
    "import matplotlib.pyplot as plt"
   ]
  },
  {
   "cell_type": "code",
   "execution_count": 2,
   "metadata": {},
   "outputs": [
    {
     "data": {
      "text/html": [
       "<div>\n",
       "<style scoped>\n",
       "    .dataframe tbody tr th:only-of-type {\n",
       "        vertical-align: middle;\n",
       "    }\n",
       "\n",
       "    .dataframe tbody tr th {\n",
       "        vertical-align: top;\n",
       "    }\n",
       "\n",
       "    .dataframe thead th {\n",
       "        text-align: right;\n",
       "    }\n",
       "</style>\n",
       "<table border=\"1\" class=\"dataframe\">\n",
       "  <thead>\n",
       "    <tr style=\"text-align: right;\">\n",
       "      <th></th>\n",
       "      <th>id</th>\n",
       "      <th>label</th>\n",
       "      <th>tweet</th>\n",
       "    </tr>\n",
       "  </thead>\n",
       "  <tbody>\n",
       "    <tr>\n",
       "      <td>0</td>\n",
       "      <td>1</td>\n",
       "      <td>0</td>\n",
       "      <td>@user when a father is dysfunctional and is s...</td>\n",
       "    </tr>\n",
       "    <tr>\n",
       "      <td>1</td>\n",
       "      <td>2</td>\n",
       "      <td>0</td>\n",
       "      <td>@user @user thanks for #lyft credit i can't us...</td>\n",
       "    </tr>\n",
       "    <tr>\n",
       "      <td>2</td>\n",
       "      <td>3</td>\n",
       "      <td>0</td>\n",
       "      <td>bihday your majesty</td>\n",
       "    </tr>\n",
       "    <tr>\n",
       "      <td>3</td>\n",
       "      <td>4</td>\n",
       "      <td>0</td>\n",
       "      <td>#model   i love u take with u all the time in ...</td>\n",
       "    </tr>\n",
       "    <tr>\n",
       "      <td>4</td>\n",
       "      <td>5</td>\n",
       "      <td>0</td>\n",
       "      <td>factsguide: society now    #motivation</td>\n",
       "    </tr>\n",
       "  </tbody>\n",
       "</table>\n",
       "</div>"
      ],
      "text/plain": [
       "   id  label                                              tweet\n",
       "0   1      0   @user when a father is dysfunctional and is s...\n",
       "1   2      0  @user @user thanks for #lyft credit i can't us...\n",
       "2   3      0                                bihday your majesty\n",
       "3   4      0  #model   i love u take with u all the time in ...\n",
       "4   5      0             factsguide: society now    #motivation"
      ]
     },
     "execution_count": 2,
     "metadata": {},
     "output_type": "execute_result"
    }
   ],
   "source": [
    "df = pd.read_csv('train.csv')\n",
    "df.head()"
   ]
  },
  {
   "cell_type": "code",
   "execution_count": 3,
   "metadata": {
    "scrolled": true
   },
   "outputs": [
    {
     "name": "stdout",
     "output_type": "stream",
     "text": [
      "<class 'pandas.core.frame.DataFrame'>\n",
      "RangeIndex: 31962 entries, 0 to 31961\n",
      "Data columns (total 3 columns):\n",
      "id       31962 non-null int64\n",
      "label    31962 non-null int64\n",
      "tweet    31962 non-null object\n",
      "dtypes: int64(2), object(1)\n",
      "memory usage: 749.2+ KB\n",
      "None\n"
     ]
    }
   ],
   "source": [
    "print(df.info())"
   ]
  },
  {
   "cell_type": "markdown",
   "metadata": {},
   "source": [
    "#### Note: label '1' denotes that the tweet contains hate speech, and label '0' denotes that the tweet does not contain hate speech. Let's look at the amount of hate and non-hate speech observations in the dataset."
   ]
  },
  {
   "cell_type": "code",
   "execution_count": 4,
   "metadata": {},
   "outputs": [
    {
     "data": {
      "text/plain": [
       "0    29720\n",
       "1     2242\n",
       "Name: label, dtype: int64"
      ]
     },
     "execution_count": 4,
     "metadata": {},
     "output_type": "execute_result"
    }
   ],
   "source": [
    "df.label.value_counts()"
   ]
  },
  {
   "cell_type": "markdown",
   "metadata": {},
   "source": [
    "#### As we can see, there are 29,720 non-hate speech tweets, and 2, 242 hate speech tweets."
   ]
  },
  {
   "cell_type": "markdown",
   "metadata": {},
   "source": [
    "#### Let's also check if there are any missing values of label in the dataset; we do so below by traversing through all the entries in the dataset."
   ]
  },
  {
   "cell_type": "code",
   "execution_count": 5,
   "metadata": {},
   "outputs": [],
   "source": [
    "for i in range(len(df)):\n",
    "    if df['label'][i] != 0 and df['label'][i] != 1:\n",
    "        print(df['label'][i])\n",
    "    else:\n",
    "        continue"
   ]
  },
  {
   "cell_type": "markdown",
   "metadata": {},
   "source": [
    "#### There are no missing or invalid entries in the label column!"
   ]
  },
  {
   "cell_type": "code",
   "execution_count": 6,
   "metadata": {
    "scrolled": false
   },
   "outputs": [
    {
     "data": {
      "image/png": "[encoded data removed]",
      "text/plain": [
       "<Figure size 432x288 with 1 Axes>"
      ]
     },
     "metadata": {
      "needs_background": "light"
     },
     "output_type": "display_data"
    }
   ],
   "source": [
    "Sentiment_count = df.groupby('label').count()\n",
    "plt.bar(Sentiment_count.index.values, Sentiment_count['tweet'], color=\"skyblue\")\n",
    "plt.xticks([0,1], [\"Hate Speech Tweet\", \"Non-Hate Speech Tweet\"])\n",
    "plt.ylabel('Frequency of Tweets')\n",
    "plt.show()"
   ]
  },
  {
   "cell_type": "markdown",
   "metadata": {},
   "source": [
    "## Data Preprocessing: Dataset #2"
   ]
  },
  {
   "cell_type": "markdown",
   "metadata": {},
   "source": [
    "#### We convert a JS file to CSV, and we modify the column names and labels (True/False Boolean to 0,1) to match the Dataset #1 and merge the two. This dataset will provide additional 678 entries>"
   ]
  },
  {
   "cell_type": "code",
   "execution_count": 7,
   "metadata": {},
   "outputs": [],
   "source": [
    "df_extra = pd.read_csv('trainTweets.csv')"
   ]
  },
  {
   "cell_type": "code",
   "execution_count": 8,
   "metadata": {},
   "outputs": [
    {
     "data": {
      "text/html": [
       "<div>\n",
       "<style scoped>\n",
       "    .dataframe tbody tr th:only-of-type {\n",
       "        vertical-align: middle;\n",
       "    }\n",
       "\n",
       "    .dataframe tbody tr th {\n",
       "        vertical-align: top;\n",
       "    }\n",
       "\n",
       "    .dataframe thead th {\n",
       "        text-align: right;\n",
       "    }\n",
       "</style>\n",
       "<table border=\"1\" class=\"dataframe\">\n",
       "  <thead>\n",
       "    <tr style=\"text-align: right;\">\n",
       "      <th></th>\n",
       "      <th>classification</th>\n",
       "      <th>tweet</th>\n",
       "    </tr>\n",
       "  </thead>\n",
       "  <tbody>\n",
       "    <tr>\n",
       "      <td>0</td>\n",
       "      <td>True</td>\n",
       "      <td>rt @_makada_ muslim refugee charged with beati...</td>\n",
       "    </tr>\n",
       "    <tr>\n",
       "      <td>1</td>\n",
       "      <td>True</td>\n",
       "      <td>rt @_makada_ muslim refugee charged with beati...</td>\n",
       "    </tr>\n",
       "    <tr>\n",
       "      <td>2</td>\n",
       "      <td>True</td>\n",
       "      <td>rt @johnkstahlusa there\\'s something wrong wit...</td>\n",
       "    </tr>\n",
       "    <tr>\n",
       "      <td>3</td>\n",
       "      <td>True</td>\n",
       "      <td>trouble is it\\'s all dem-friendly spending  pl...</td>\n",
       "    </tr>\n",
       "    <tr>\n",
       "      <td>4</td>\n",
       "      <td>True</td>\n",
       "      <td>rt @amike4761 muslim refugees decline work say...</td>\n",
       "    </tr>\n",
       "  </tbody>\n",
       "</table>\n",
       "</div>"
      ],
      "text/plain": [
       "    classification                                              tweet\n",
       "0             True  rt @_makada_ muslim refugee charged with beati...\n",
       "1             True  rt @_makada_ muslim refugee charged with beati...\n",
       "2             True  rt @johnkstahlusa there\\'s something wrong wit...\n",
       "3             True  trouble is it\\'s all dem-friendly spending  pl...\n",
       "4             True  rt @amike4761 muslim refugees decline work say..."
      ]
     },
     "execution_count": 8,
     "metadata": {},
     "output_type": "execute_result"
    }
   ],
   "source": [
    "df_extra.head()"
   ]
  },
  {
   "cell_type": "code",
   "execution_count": 9,
   "metadata": {},
   "outputs": [
    {
     "name": "stdout",
     "output_type": "stream",
     "text": [
      "<class 'pandas.core.frame.DataFrame'>\n",
      "RangeIndex: 678 entries, 0 to 677\n",
      "Data columns (total 2 columns):\n",
      " classification    678 non-null bool\n",
      "tweet              678 non-null object\n",
      "dtypes: bool(1), object(1)\n",
      "memory usage: 6.1+ KB\n"
     ]
    }
   ],
   "source": [
    "df_extra.info()"
   ]
  },
  {
   "cell_type": "markdown",
   "metadata": {},
   "source": [
    "#### Let's assign the ids to each tweet, and add it as an additional column."
   ]
  },
  {
   "cell_type": "code",
   "execution_count": 10,
   "metadata": {},
   "outputs": [],
   "source": [
    "ids = list(range(len(df)+1, len(df)+len(df_extra)+1))\n",
    "df_extra.insert(0, 'id', ids)"
   ]
  },
  {
   "cell_type": "code",
   "execution_count": 11,
   "metadata": {},
   "outputs": [],
   "source": [
    "df_extra = df_extra.rename(columns={'id':'id', ' classification':'label', 'tweet':'tweet'})"
   ]
  },
  {
   "cell_type": "code",
   "execution_count": 12,
   "metadata": {
    "scrolled": false
   },
   "outputs": [
    {
     "name": "stdout",
     "output_type": "stream",
     "text": [
      "<class 'pandas.core.frame.DataFrame'>\n",
      "RangeIndex: 678 entries, 0 to 677\n",
      "Data columns (total 3 columns):\n",
      "id       678 non-null int64\n",
      "label    678 non-null bool\n",
      "tweet    678 non-null object\n",
      "dtypes: bool(1), int64(1), object(1)\n",
      "memory usage: 11.4+ KB\n"
     ]
    }
   ],
   "source": [
    "df_extra.info()"
   ]
  },
  {
   "cell_type": "markdown",
   "metadata": {},
   "source": [
    "#### Let's check how many hate and non-hate speech entries we have."
   ]
  },
  {
   "cell_type": "code",
   "execution_count": 13,
   "metadata": {},
   "outputs": [
    {
     "data": {
      "text/plain": [
       "True     339\n",
       "False    339\n",
       "Name: label, dtype: int64"
      ]
     },
     "execution_count": 13,
     "metadata": {},
     "output_type": "execute_result"
    }
   ],
   "source": [
    "df_extra.label.value_counts()"
   ]
  },
  {
   "cell_type": "code",
   "execution_count": 14,
   "metadata": {},
   "outputs": [
    {
     "data": {
      "image/png": "[encoded data removed]",
      "text/plain": [
       "<Figure size 432x288 with 1 Axes>"
      ]
     },
     "metadata": {
      "needs_background": "light"
     },
     "output_type": "display_data"
    }
   ],
   "source": [
    "Sentiment_count = df_extra.groupby('label').count()\n",
    "plt.bar(Sentiment_count.index.values, Sentiment_count['tweet'], color=\"skyblue\")\n",
    "plt.xticks([0,1], [\"Hate Speech Tweet\", \"Non-Hate Speech Tweet\"])\n",
    "plt.ylabel('Frequency of Tweets')\n",
    "plt.show()"
   ]
  },
  {
   "cell_type": "markdown",
   "metadata": {},
   "source": [
    "#### There are 339 hate and 339 non-hate speech entries in this dataset. \n",
    "#### Let's change the boolean True/False label assignments to 1 and 0 respectively. "
   ]
  },
  {
   "cell_type": "code",
   "execution_count": 15,
   "metadata": {},
   "outputs": [],
   "source": [
    "df_extra[\"label\"] = df_extra[\"label\"].astype(int)"
   ]
  },
  {
   "cell_type": "code",
   "execution_count": 16,
   "metadata": {
    "scrolled": true
   },
   "outputs": [
    {
     "data": {
      "text/html": [
       "<div>\n",
       "<style scoped>\n",
       "    .dataframe tbody tr th:only-of-type {\n",
       "        vertical-align: middle;\n",
       "    }\n",
       "\n",
       "    .dataframe tbody tr th {\n",
       "        vertical-align: top;\n",
       "    }\n",
       "\n",
       "    .dataframe thead th {\n",
       "        text-align: right;\n",
       "    }\n",
       "</style>\n",
       "<table border=\"1\" class=\"dataframe\">\n",
       "  <thead>\n",
       "    <tr style=\"text-align: right;\">\n",
       "      <th></th>\n",
       "      <th>id</th>\n",
       "      <th>label</th>\n",
       "      <th>tweet</th>\n",
       "    </tr>\n",
       "  </thead>\n",
       "  <tbody>\n",
       "    <tr>\n",
       "      <td>0</td>\n",
       "      <td>31963</td>\n",
       "      <td>1</td>\n",
       "      <td>rt @_makada_ muslim refugee charged with beati...</td>\n",
       "    </tr>\n",
       "  </tbody>\n",
       "</table>\n",
       "</div>"
      ],
      "text/plain": [
       "      id  label                                              tweet\n",
       "0  31963      1  rt @_makada_ muslim refugee charged with beati..."
      ]
     },
     "execution_count": 16,
     "metadata": {},
     "output_type": "execute_result"
    }
   ],
   "source": [
    "df_extra.head(1)"
   ]
  },
  {
   "cell_type": "markdown",
   "metadata": {},
   "source": [
    "#### Now we have the same 3 columns as in the other dataset - including id, label, and tweet."
   ]
  },
  {
   "cell_type": "markdown",
   "metadata": {},
   "source": [
    "## Merging two datasets:"
   ]
  },
  {
   "cell_type": "code",
   "execution_count": 17,
   "metadata": {},
   "outputs": [],
   "source": [
    "data = df.append(df_extra, ignore_index=True, verify_integrity=False, sort=False)"
   ]
  },
  {
   "cell_type": "code",
   "execution_count": 18,
   "metadata": {
    "scrolled": true
   },
   "outputs": [
    {
     "data": {
      "text/plain": [
       "0    30059\n",
       "1     2581\n",
       "Name: label, dtype: int64"
      ]
     },
     "execution_count": 18,
     "metadata": {},
     "output_type": "execute_result"
    }
   ],
   "source": [
    "data.label.value_counts()"
   ]
  },
  {
   "cell_type": "code",
   "execution_count": 19,
   "metadata": {},
   "outputs": [
    {
     "name": "stdout",
     "output_type": "stream",
     "text": [
      "<class 'pandas.core.frame.DataFrame'>\n",
      "RangeIndex: 32640 entries, 0 to 32639\n",
      "Data columns (total 3 columns):\n",
      "id       32640 non-null int64\n",
      "label    32640 non-null int64\n",
      "tweet    32640 non-null object\n",
      "dtypes: int64(2), object(1)\n",
      "memory usage: 765.1+ KB\n"
     ]
    }
   ],
   "source": [
    "data.info()"
   ]
  },
  {
   "cell_type": "code",
   "execution_count": 20,
   "metadata": {
    "scrolled": false
   },
   "outputs": [
    {
     "data": {
      "image/png": "[encoded data removed]",
      "text/plain": [
       "<Figure size 432x288 with 1 Axes>"
      ]
     },
     "metadata": {
      "needs_background": "light"
     },
     "output_type": "display_data"
    }
   ],
   "source": [
    "Sentiment_count = data.groupby('label').count()\n",
    "plt.bar(Sentiment_count.index.values, Sentiment_count['tweet'], color=\"skyblue\")\n",
    "plt.xticks([0,1], [\"Hate Speech Tweet\", \"Non-Hate Speech Tweet\"])\n",
    "plt.ylabel('Frequency of Tweets')\n",
    "plt.show()"
   ]
  },
  {
   "cell_type": "markdown",
   "metadata": {},
   "source": [
    "## Exploratory Data Analysis"
   ]
  },
  {
   "cell_type": "markdown",
   "metadata": {},
   "source": [
    "### Below we look at the \n",
    "- distributions of lengths of all tweets in total, hate-speech and non-hate speech tweets separately\n",
    "- word frequencies using histograms and wordclouds"
   ]
  },
  {
   "cell_type": "code",
   "execution_count": 21,
   "metadata": {},
   "outputs": [
    {
     "data": {
      "image/png": "[encoded data removed]",
      "text/plain": [
       "<Figure size 432x288 with 1 Axes>"
      ]
     },
     "metadata": {
      "needs_background": "light"
     },
     "output_type": "display_data"
    }
   ],
   "source": [
    "length_tweets = []\n",
    "for i in range(len(data)):\n",
    "    length_tweets.append(len(data.tweet[i]))\n",
    "\n",
    "plt.hist(length_tweets)\n",
    "plt.title(\"Frequency of the length of tweets (in characters)\")\n",
    "plt.show()"
   ]
  },
  {
   "cell_type": "markdown",
   "metadata": {},
   "source": [
    "#### We cal split the dataset into non-hate speech and hate speech to look closer into them."
   ]
  },
  {
   "cell_type": "code",
   "execution_count": 22,
   "metadata": {},
   "outputs": [],
   "source": [
    "data_hate = data.loc[data.label==1]\n",
    "data_no_hate = data.loc[data.label==0]"
   ]
  },
  {
   "cell_type": "code",
   "execution_count": 23,
   "metadata": {
    "scrolled": false
   },
   "outputs": [
    {
     "data": {
      "image/png": "[encoded data removed]",
      "text/plain": [
       "<Figure size 432x288 with 1 Axes>"
      ]
     },
     "metadata": {
      "needs_background": "light"
     },
     "output_type": "display_data"
    },
    {
     "name": "stdout",
     "output_type": "stream",
     "text": [
      "The mean of the length of hate speech tweets is: 91.62 characters\n",
      "The median of the length of hate speech tweets is: 98.0 characters\n",
      "---------------------------------------------------\n",
      "The mean of the length of non-hate speech tweets is: 84.62 characters\n",
      "The median of the length of non-hate speech tweets is: 88.0 characters\n"
     ]
    }
   ],
   "source": [
    "length_tweets_nh = []\n",
    "length_tweets_h = []\n",
    "\n",
    "for i in range(len(data_no_hate)):\n",
    "    length_tweets_nh.append(len(data_no_hate.tweet.iloc[i]))\n",
    "\n",
    "for i in range(len(data_hate)):\n",
    "    length_tweets_h.append(len(data_hate.tweet.iloc[i]))\n",
    "\n",
    "plt.hist(length_tweets_nh, density=True, alpha=0.5, color=\"blue\") + plt.hist(length_tweets_h, density=True, alpha=0.5, color=\"red\")\n",
    "plt.legend([\"No-Hate Speech Tweet\", \"Hate Speech Tweet\"])\n",
    "plt.show()\n",
    "\n",
    "print(\"The mean of the length of hate speech tweets is:\", round(np.mean(length_tweets_h), 2), \"characters\")\n",
    "print(\"The median of the length of hate speech tweets is:\", round(np.median(length_tweets_h), 2), \"characters\")\n",
    "print(\"---------------------------------------------------\")\n",
    "print(\"The mean of the length of non-hate speech tweets is:\", round(np.mean(length_tweets_nh), 2), \"characters\")\n",
    "print(\"The median of the length of non-hate speech tweets is:\", round(np.median(length_tweets_nh), 2), \"characters\")"
   ]
  },
  {
   "cell_type": "markdown",
   "metadata": {},
   "source": [
    "#### We can note that there is no significant difference in between lengths of hate and non-hate tweets, as their distributions follow the same distribution pattern, majorly overlaying one another. Both mean and median of the first groups of tweets (hate speech) are higher that those of non-hate speech."
   ]
  },
  {
   "cell_type": "markdown",
   "metadata": {},
   "source": [
    "### Tokenization"
   ]
  },
  {
   "cell_type": "markdown",
   "metadata": {},
   "source": [
    "#### Let's tokenize all of the words in the tweek column, utilizing NLTK."
   ]
  },
  {
   "cell_type": "code",
   "execution_count": 24,
   "metadata": {},
   "outputs": [],
   "source": [
    "import nltk\n",
    "from nltk.tokenize import word_tokenize\n",
    "\n",
    "data['tweet_token'] = data['tweet'].apply(lambda x: word_tokenize(x.lower()))"
   ]
  },
  {
   "cell_type": "markdown",
   "metadata": {},
   "source": [
    "#### This is what the column of the tweets looks like after tokenization:"
   ]
  },
  {
   "cell_type": "code",
   "execution_count": 25,
   "metadata": {
    "scrolled": false
   },
   "outputs": [
    {
     "data": {
      "text/plain": [
       "13       [@, user, #, cnn, calls, #, michigan, middle, ...\n",
       "14       [no, comment, !, in, #, australia, #, opkillin...\n",
       "17                            [retweet, if, you, agree, !]\n",
       "23       [@, user, @, user, lumpy, says, i, am, a, ., p...\n",
       "34       [it, 's, unbelievable, that, in, the, 21st, ce...\n",
       "                               ...                        \n",
       "32296    [yeah, yeah, yeah, ., ., poor, you, ., ., ., y...\n",
       "32297    [@, foxnews, @, love_the_donald, how, about, f...\n",
       "32298                 [bitch, you, look, like, a, refugee]\n",
       "32299    [this, is, not, the, idea, for, refugees, who,...\n",
       "32300    [#, sanctuarycities, ethiopian, \\'refugee\\, ',...\n",
       "Name: tweet_token, Length: 2581, dtype: object"
      ]
     },
     "execution_count": 25,
     "metadata": {},
     "output_type": "execute_result"
    }
   ],
   "source": [
    "data.loc[data.label==1, 'tweet_token']"
   ]
  },
  {
   "cell_type": "markdown",
   "metadata": {},
   "source": [
    "#### We see that some entries are invalid (with special signs). Let's remove all the stopwords using NLTK."
   ]
  },
  {
   "cell_type": "code",
   "execution_count": 26,
   "metadata": {},
   "outputs": [],
   "source": [
    "from nltk.corpus import stopwords\n",
    "stop_words = set(stopwords.words(\"english\"))"
   ]
  },
  {
   "cell_type": "code",
   "execution_count": 27,
   "metadata": {
    "scrolled": false
   },
   "outputs": [
    {
     "data": {
      "text/html": [
       "<div>\n",
       "<style scoped>\n",
       "    .dataframe tbody tr th:only-of-type {\n",
       "        vertical-align: middle;\n",
       "    }\n",
       "\n",
       "    .dataframe tbody tr th {\n",
       "        vertical-align: top;\n",
       "    }\n",
       "\n",
       "    .dataframe thead th {\n",
       "        text-align: right;\n",
       "    }\n",
       "</style>\n",
       "<table border=\"1\" class=\"dataframe\">\n",
       "  <thead>\n",
       "    <tr style=\"text-align: right;\">\n",
       "      <th></th>\n",
       "      <th>id</th>\n",
       "      <th>label</th>\n",
       "      <th>tweet</th>\n",
       "      <th>tweet_token</th>\n",
       "      <th>token_clean</th>\n",
       "    </tr>\n",
       "  </thead>\n",
       "  <tbody>\n",
       "    <tr>\n",
       "      <td>0</td>\n",
       "      <td>1</td>\n",
       "      <td>0</td>\n",
       "      <td>@user when a father is dysfunctional and is s...</td>\n",
       "      <td>[@, user, when, a, father, is, dysfunctional, ...</td>\n",
       "      <td>[@, user, father, dysfunctional, selfish, drag...</td>\n",
       "    </tr>\n",
       "    <tr>\n",
       "      <td>1</td>\n",
       "      <td>2</td>\n",
       "      <td>0</td>\n",
       "      <td>@user @user thanks for #lyft credit i can't us...</td>\n",
       "      <td>[@, user, @, user, thanks, for, #, lyft, credi...</td>\n",
       "      <td>[@, user, @, user, thanks, #, lyft, credit, ca...</td>\n",
       "    </tr>\n",
       "    <tr>\n",
       "      <td>2</td>\n",
       "      <td>3</td>\n",
       "      <td>0</td>\n",
       "      <td>bihday your majesty</td>\n",
       "      <td>[bihday, your, majesty]</td>\n",
       "      <td>[bihday, majesty]</td>\n",
       "    </tr>\n",
       "    <tr>\n",
       "      <td>3</td>\n",
       "      <td>4</td>\n",
       "      <td>0</td>\n",
       "      <td>#model   i love u take with u all the time in ...</td>\n",
       "      <td>[#, model, i, love, u, take, with, u, all, the...</td>\n",
       "      <td>[#, model, love, u, take, u, time, urð±, !, ...</td>\n",
       "    </tr>\n",
       "    <tr>\n",
       "      <td>4</td>\n",
       "      <td>5</td>\n",
       "      <td>0</td>\n",
       "      <td>factsguide: society now    #motivation</td>\n",
       "      <td>[factsguide, :, society, now, #, motivation]</td>\n",
       "      <td>[factsguide, :, society, #, motivation]</td>\n",
       "    </tr>\n",
       "  </tbody>\n",
       "</table>\n",
       "</div>"
      ],
      "text/plain": [
       "   id  label                                              tweet  \\\n",
       "0   1      0   @user when a father is dysfunctional and is s...   \n",
       "1   2      0  @user @user thanks for #lyft credit i can't us...   \n",
       "2   3      0                                bihday your majesty   \n",
       "3   4      0  #model   i love u take with u all the time in ...   \n",
       "4   5      0             factsguide: society now    #motivation   \n",
       "\n",
       "                                         tweet_token  \\\n",
       "0  [@, user, when, a, father, is, dysfunctional, ...   \n",
       "1  [@, user, @, user, thanks, for, #, lyft, credi...   \n",
       "2                            [bihday, your, majesty]   \n",
       "3  [#, model, i, love, u, take, with, u, all, the...   \n",
       "4       [factsguide, :, society, now, #, motivation]   \n",
       "\n",
       "                                         token_clean  \n",
       "0  [@, user, father, dysfunctional, selfish, drag...  \n",
       "1  [@, user, @, user, thanks, #, lyft, credit, ca...  \n",
       "2                                  [bihday, majesty]  \n",
       "3  [#, model, love, u, take, u, time, urð±, !, ...  \n",
       "4            [factsguide, :, society, #, motivation]  "
      ]
     },
     "execution_count": 27,
     "metadata": {},
     "output_type": "execute_result"
    }
   ],
   "source": [
    "data['token_clean'] = data['tweet_token'].apply(lambda x: [w for w in x if w not in stop_words])\n",
    "data.head()"
   ]
  },
  {
   "cell_type": "markdown",
   "metadata": {},
   "source": [
    "#### Let's delete all the possible punctuation that is not needed for our later analysis of the text>"
   ]
  },
  {
   "cell_type": "code",
   "execution_count": 28,
   "metadata": {},
   "outputs": [
    {
     "name": "stdout",
     "output_type": "stream",
     "text": [
      "['!', '\"', '#', '$', '%', '&', \"'\", '(', ')', '*', '+', ',', '-', '.', '/', ':', ';', '<', '=', '>', '?', '@', '[', '\\\\', ']', '^', '_', '`', '{', '|', '}', '~']\n"
     ]
    }
   ],
   "source": [
    "import string\n",
    "\n",
    "list_punctuation = []\n",
    "for ch in string.punctuation:\n",
    "    list_punctuation.append(ch)\n",
    "    \n",
    "print(list_punctuation)"
   ]
  },
  {
   "cell_type": "markdown",
   "metadata": {},
   "source": [
    "#### Let's remove punctuation, by implementing a function that will store the entry it it is not in list of punctuation."
   ]
  },
  {
   "cell_type": "code",
   "execution_count": 29,
   "metadata": {
    "scrolled": true
   },
   "outputs": [
    {
     "data": {
      "text/plain": [
       "0        [user, father, dysfunctional, selfish, drags, ...\n",
       "1        [user, user, thanks, lyft, credit, ca, n't, us...\n",
       "2                                        [bihday, majesty]\n",
       "3        [model, love, u, take, u, time, urð±, ðð...\n",
       "4                        [factsguide, society, motivation]\n",
       "                               ...                        \n",
       "32635    [eus, treatment, lone, children, one, shameful...\n",
       "32636    [rt, chakerkhazaal, einstein, refugee, world, ...\n",
       "32637    [rt, ticley, god, help, poor, refugees, frump,...\n",
       "32638    [success, refugee, neurobiologist, arrived, sw...\n",
       "32639    [rt, hasasimo, syria, refugee, helps, fulfill,...\n",
       "Name: token_cleaner, Length: 32640, dtype: object"
      ]
     },
     "execution_count": 29,
     "metadata": {},
     "output_type": "execute_result"
    }
   ],
   "source": [
    "import string\n",
    "\n",
    "data['token_cleaner'] = data['token_clean'].apply(lambda x: [w for w in x if w not in list_punctuation])\n",
    "data['token_cleaner']"
   ]
  },
  {
   "cell_type": "markdown",
   "metadata": {},
   "source": [
    "#### Let's remove the special characters outside punctuation.\n"
   ]
  },
  {
   "cell_type": "code",
   "execution_count": 30,
   "metadata": {
    "scrolled": false
   },
   "outputs": [
    {
     "data": {
      "text/plain": [
       "0        [user, father, dysfunctional, selfish, drags, ...\n",
       "1        [user, user, thanks, lyft, credit, ca, use, ca...\n",
       "2                                        [bihday, majesty]\n",
       "3                          [model, love, u, take, u, time]\n",
       "4                        [factsguide, society, motivation]\n",
       "                               ...                        \n",
       "32635    [eus, treatment, lone, children, one, shameful...\n",
       "32636    [rt, chakerkhazaal, einstein, refugee, world, ...\n",
       "32637    [rt, ticley, god, help, poor, refugees, frump,...\n",
       "32638    [success, refugee, neurobiologist, arrived, sw...\n",
       "32639    [rt, hasasimo, syria, refugee, helps, fulfill,...\n",
       "Name: token_clean_alph, Length: 32640, dtype: object"
      ]
     },
     "execution_count": 30,
     "metadata": {},
     "output_type": "execute_result"
    }
   ],
   "source": [
    "import string\n",
    "data['token_clean_alph'] = data['token_cleaner'].apply(lambda x: [i for i in x if i.isalpha()])\n",
    "data['token_clean_alph']"
   ]
  },
  {
   "cell_type": "markdown",
   "metadata": {},
   "source": [
    "Now our tweets data only contains strings with words, and no special characters or punctuation."
   ]
  },
  {
   "cell_type": "markdown",
   "metadata": {},
   "source": [
    "## Word frequencies \n",
    "#### Let's look into word frequencies of the general dataset and its 2 variations with hate and non-hate speech."
   ]
  },
  {
   "cell_type": "markdown",
   "metadata": {},
   "source": [
    "#### Thus I create frequency lists of of the entire dataset and it split into hate and non-hate speech parts, mapping each word to the amount of times the word is used across the tweets."
   ]
  },
  {
   "cell_type": "code",
   "execution_count": 31,
   "metadata": {},
   "outputs": [],
   "source": [
    "## Entire dictionary\n",
    "frequency_dict = dict()\n",
    "\n",
    "for each_tweet in range(len(data['token_clean_alph'])):\n",
    "    for word in data['token_clean_alph'][each_tweet]:\n",
    "        if word in frequency_dict: \n",
    "            frequency_dict[word] += 1\n",
    "        else: \n",
    "            frequency_dict[word] = 1        "
   ]
  },
  {
   "cell_type": "code",
   "execution_count": 32,
   "metadata": {},
   "outputs": [],
   "source": [
    "## non-hate dictionary\n",
    "frequency_dict_nonhate = dict()\n",
    "\n",
    "for each_tweet in range(len(data.loc[data['label']==0,'token_clean_alph'])):\n",
    "    for word in data['token_clean_alph'][each_tweet]:\n",
    "        if word in frequency_dict_nonhate: \n",
    "            frequency_dict_nonhate[word] += 1\n",
    "        else: \n",
    "            frequency_dict_nonhate[word] = 1  "
   ]
  },
  {
   "cell_type": "code",
   "execution_count": 33,
   "metadata": {},
   "outputs": [],
   "source": [
    "## hate speech dictionary\n",
    "frequency_dict_hate = dict()\n",
    "\n",
    "for each_tweet in range(len(data.loc[data['label']==1,'token_clean_alph'])):\n",
    "    for word in data['token_clean_alph'][each_tweet]:\n",
    "        if word in frequency_dict_hate: \n",
    "            frequency_dict_hate[word] += 1\n",
    "        else: \n",
    "            frequency_dict_hate[word] = 1        "
   ]
  },
  {
   "cell_type": "markdown",
   "metadata": {},
   "source": [
    "### Let's create some wordclouds to see which words are most frequent in the dataset."
   ]
  },
  {
   "cell_type": "code",
   "execution_count": 34,
   "metadata": {},
   "outputs": [],
   "source": [
    "from wordcloud import WordCloud"
   ]
  },
  {
   "cell_type": "code",
   "execution_count": 35,
   "metadata": {},
   "outputs": [
    {
     "data": {
      "image/png": "[encoded data removed]",
      "text/plain": [
       "<Figure size 432x288 with 1 Axes>"
      ]
     },
     "metadata": {
      "needs_background": "light"
     },
     "output_type": "display_data"
    }
   ],
   "source": [
    "## for all dataset\n",
    "wordcloud = WordCloud(min_word_length = 2, background_color='white')\n",
    "wordcloud.generate_from_frequencies(frequency_dict)\n",
    "plt.imshow(wordcloud, interpolation='bilinear')\n",
    "plt.axis('off')\n",
    "plt.show()"
   ]
  },
  {
   "cell_type": "code",
   "execution_count": 36,
   "metadata": {},
   "outputs": [],
   "source": [
    "#import matplotlib,pyplot as plt\n",
    "#plt.hist(frequency_dict)"
   ]
  },
  {
   "cell_type": "code",
   "execution_count": 37,
   "metadata": {},
   "outputs": [
    {
     "data": {
      "image/png": "[encoded data removed]",
      "text/plain": [
       "<Figure size 432x288 with 1 Axes>"
      ]
     },
     "metadata": {
      "needs_background": "light"
     },
     "output_type": "display_data"
    }
   ],
   "source": [
    "## for non-hate speech tweets\n",
    "wordcloud = WordCloud(min_word_length = 2, background_color='white')\n",
    "wordcloud.generate_from_frequencies(frequency_dict_nonhate)\n",
    "plt.imshow(wordcloud, interpolation='bilinear')\n",
    "plt.axis('off')\n",
    "plt.show()"
   ]
  },
  {
   "cell_type": "code",
   "execution_count": 38,
   "metadata": {},
   "outputs": [
    {
     "data": {
      "image/png": "[encoded data removed]",
      "text/plain": [
       "<Figure size 432x288 with 1 Axes>"
      ]
     },
     "metadata": {
      "needs_background": "light"
     },
     "output_type": "display_data"
    }
   ],
   "source": [
    "## for hate speech tweets\n",
    "wordcloud = WordCloud(min_word_length = 2, background_color='white')\n",
    "wordcloud.generate_from_frequencies(frequency_dict_hate)\n",
    "plt.imshow(wordcloud, interpolation='bilinear')\n",
    "plt.axis('off')\n",
    "plt.show()"
   ]
  },
  {
   "cell_type": "markdown",
   "metadata": {},
   "source": [
    "#### Based on the observations above we want to delete the entries with - \"user\", \"like\", \"via\", and combine entrieslike rt and reetweet."
   ]
  },
  {
   "cell_type": "code",
   "execution_count": 39,
   "metadata": {},
   "outputs": [],
   "source": [
    "keys_to_be_deleted = ['user', 'like', 'via']\n",
    "\n",
    "for i in keys_to_be_deleted:\n",
    "    if i in frequency_dict:\n",
    "        del frequency_dict[i]\n",
    "    else:\n",
    "        print(f'Key {i} is not in the dictionary')"
   ]
  },
  {
   "cell_type": "markdown",
   "metadata": {},
   "source": [
    "### Stemmatization"
   ]
  },
  {
   "cell_type": "code",
   "execution_count": 40,
   "metadata": {},
   "outputs": [],
   "source": [
    "from nltk.stem import PorterStemmer\n",
    "from nltk.tokenize import sent_tokenize, word_tokenize\n",
    "\n",
    "ps = PorterStemmer()\n",
    "data['words_stemmed'] = data['token_clean_alph'].apply(lambda x: [ps.stem(i) for i in x])\n",
    "#data['words_stemmed']"
   ]
  },
  {
   "cell_type": "code",
   "execution_count": 41,
   "metadata": {},
   "outputs": [],
   "source": [
    "y = data['label']"
   ]
  },
  {
   "cell_type": "markdown",
   "metadata": {},
   "source": [
    "### Vectorization"
   ]
  },
  {
   "cell_type": "code",
   "execution_count": 42,
   "metadata": {},
   "outputs": [],
   "source": [
    "from sklearn.feature_extraction.text import TfidfVectorizer\n",
    "#reference - https://www.davidsbatista.net/blog/2018/02/28/TfidfVectorizer/\n",
    "\n",
    "def dummy_fun(doc):\n",
    "    return doc\n",
    "\n",
    "tfidf = TfidfVectorizer(\n",
    "    analyzer='word',\n",
    "    tokenizer=dummy_fun,\n",
    "    preprocessor=dummy_fun,\n",
    "    token_pattern=None)  "
   ]
  },
  {
   "cell_type": "code",
   "execution_count": 43,
   "metadata": {
    "scrolled": true
   },
   "outputs": [
    {
     "data": {
      "text/plain": [
       "TfidfVectorizer(analyzer='word', binary=False, decode_error='strict',\n",
       "                dtype=<class 'numpy.float64'>, encoding='utf-8',\n",
       "                input='content', lowercase=True, max_df=1.0, max_features=None,\n",
       "                min_df=1, ngram_range=(1, 1), norm='l2',\n",
       "                preprocessor=<function dummy_fun at 0x7fec5d6ca950>,\n",
       "                smooth_idf=True, stop_words=None, strip_accents=None,\n",
       "                sublinear_tf=False, token_pattern=None,\n",
       "                tokenizer=<function dummy_fun at 0x7fec5d6ca950>, use_idf=True,\n",
       "                vocabulary=None)"
      ]
     },
     "execution_count": 43,
     "metadata": {},
     "output_type": "execute_result"
    }
   ],
   "source": [
    "docs = data['words_stemmed']\n",
    "tfidf.fit(docs)\n",
    "#tfidf.vocabulary_"
   ]
  },
  {
   "cell_type": "code",
   "execution_count": 44,
   "metadata": {},
   "outputs": [
    {
     "data": {
      "text/plain": [
       "<32640x30131 sparse matrix of type '<class 'numpy.float64'>'\n",
       "\twith 242095 stored elements in Compressed Sparse Row format>"
      ]
     },
     "execution_count": 44,
     "metadata": {},
     "output_type": "execute_result"
    }
   ],
   "source": [
    "tfidf.transform(docs)"
   ]
  },
  {
   "cell_type": "code",
   "execution_count": 45,
   "metadata": {},
   "outputs": [
    {
     "data": {
      "text/plain": [
       "{'user': 27912,\n",
       " 'father': 8707,\n",
       " 'dysfunct': 7567,\n",
       " 'selfish': 23261,\n",
       " 'drag': 7311,\n",
       " 'kid': 14170,\n",
       " 'run': 22603,\n",
       " 'thank': 26205,\n",
       " 'lyft': 15800,\n",
       " 'credit': 5810,\n",
       " 'ca': 3890,\n",
       " 'use': 27905,\n",
       " 'caus': 4316,\n",
       " 'offer': 18937,\n",
       " 'wheelchair': 28955,\n",
       " 'van': 27993,\n",
       " 'pdx': 19838,\n",
       " 'disapoint': 6892,\n",
       " 'getthank': 10215,\n",
       " 'bihday': 2697,\n",
       " 'majesti': 15963,\n",
       " 'model': 17041,\n",
       " 'love': 15516,\n",
       " 'u': 27512,\n",
       " 'take': 25767,\n",
       " 'time': 26704,\n",
       " 'factsguid': 8530,\n",
       " 'societi': 24310,\n",
       " 'motiv': 17278,\n",
       " 'huge': 12213,\n",
       " 'fan': 8617,\n",
       " 'fare': 8643,\n",
       " 'big': 2647,\n",
       " 'talk': 25795,\n",
       " 'leav': 14770,\n",
       " 'chao': 4498,\n",
       " 'pay': 19790,\n",
       " 'disput': 6968,\n",
       " 'get': 10191,\n",
       " 'allshowandnogo': 680,\n",
       " 'camp': 4011,\n",
       " 'tomorrow': 26881,\n",
       " 'next': 18224,\n",
       " 'school': 23034,\n",
       " 'year': 29744,\n",
       " 'think': 26527,\n",
       " 'exam': 8350,\n",
       " 'hate': 11409,\n",
       " 'imagin': 12627,\n",
       " 'actorslif': 183,\n",
       " 'revolutionschool': 22148,\n",
       " 'girl': 10312,\n",
       " 'land': 14580,\n",
       " 'allin': 657,\n",
       " 'cav': 4321,\n",
       " 'champion': 4473,\n",
       " 'cleveland': 4976,\n",
       " 'clevelandcavali': 4977,\n",
       " 'welcom': 28782,\n",
       " 'ireland': 13197,\n",
       " 'consum': 5460,\n",
       " 'price': 20894,\n",
       " 'index': 12791,\n",
       " 'mom': 17089,\n",
       " 'climb': 4996,\n",
       " 'previou': 20887,\n",
       " 'may': 16358,\n",
       " 'blog': 2979,\n",
       " 'silver': 23835,\n",
       " 'gold': 10536,\n",
       " 'forex': 9435,\n",
       " 'orlando': 19281,\n",
       " 'standwithorlando': 24831,\n",
       " 'pulseshoot': 21181,\n",
       " 'orlandoshoot': 19288,\n",
       " 'biggerproblem': 2666,\n",
       " 'heabreak': 11493,\n",
       " 'valu': 27985,\n",
       " 'see': 23197,\n",
       " 'daddi': 6114,\n",
       " 'today': 26819,\n",
       " 'gettingf': 10221,\n",
       " 'cnn': 5077,\n",
       " 'call': 3961,\n",
       " 'michigan': 16710,\n",
       " 'middl': 16733,\n",
       " 'wall': 28457,\n",
       " 'chant': 4496,\n",
       " 'tcot': 25920,\n",
       " 'comment': 5269,\n",
       " 'australia': 1580,\n",
       " 'opkillingbay': 19215,\n",
       " 'seashepherd': 23159,\n",
       " 'helpcovedolphin': 11633,\n",
       " 'thecov': 26287,\n",
       " 'ouch': 19342,\n",
       " 'junior': 13848,\n",
       " 'yugyoem': 29969,\n",
       " 'omg': 19059,\n",
       " 'paner': 19604,\n",
       " 'posit': 20654,\n",
       " 'retweet': 22124,\n",
       " 'agre': 396,\n",
       " 'friday': 9642,\n",
       " 'smile': 24160,\n",
       " 'around': 1321,\n",
       " 'via': 28139,\n",
       " 'ig': 12471,\n",
       " 'cooki': 5513,\n",
       " 'make': 15972,\n",
       " 'peopl': 19934,\n",
       " 'know': 14326,\n",
       " 'essenti': 8209,\n",
       " 'oil': 18980,\n",
       " 'made': 15861,\n",
       " 'chemic': 4600,\n",
       " 'blame': 2910,\n",
       " 'ha': 11127,\n",
       " 'conced': 5351,\n",
       " 'goal': 10460,\n",
       " 'fat': 8697,\n",
       " 'rooney': 22471,\n",
       " 'gave': 10035,\n",
       " 'away': 1645,\n",
       " 'free': 9570,\n",
       " 'kick': 14159,\n",
       " 'bale': 1872,\n",
       " 'hit': 11826,\n",
       " 'sad': 22702,\n",
       " 'littl': 15198,\n",
       " 'badday': 1805,\n",
       " 'coneofsham': 5385,\n",
       " 'cat': 4267,\n",
       " 'piss': 20282,\n",
       " 'funni': 9829,\n",
       " 'laugh': 14679,\n",
       " 'product': 20980,\n",
       " 'day': 6325,\n",
       " 'happi': 11298,\n",
       " 'man': 16081,\n",
       " 'wine': 29201,\n",
       " 'tool': 26920,\n",
       " 'weekend': 28731,\n",
       " 'open': 19188,\n",
       " 'amp': 890,\n",
       " 'drink': 7379,\n",
       " 'lumpi': 15762,\n",
       " 'say': 22971,\n",
       " 'prove': 21079,\n",
       " 'tgif': 26183,\n",
       " 'ff': 8919,\n",
       " 'gamedev': 9957,\n",
       " 'indiedev': 12807,\n",
       " 'indiegamedev': 12810,\n",
       " 'squad': 24746,\n",
       " 'beauti': 2215,\n",
       " 'sign': 23807,\n",
       " 'vendor': 28068,\n",
       " 'upsideofflorida': 27863,\n",
       " 'shopalyssa': 23687,\n",
       " 'media': 16473,\n",
       " 'pressconfer': 20858,\n",
       " 'antalya': 1077,\n",
       " 'turkey': 27386,\n",
       " 'sunday': 25385,\n",
       " 'throwback': 26636,\n",
       " 'great': 10838,\n",
       " 'panel': 19603,\n",
       " 'mediat': 16476,\n",
       " 'public': 21143,\n",
       " 'servic': 23356,\n",
       " 'went': 28833,\n",
       " 'nightclub': 18319,\n",
       " 'good': 10584,\n",
       " 'night': 18317,\n",
       " 'action': 170,\n",
       " 'mean': 16443,\n",
       " 'lost': 15475,\n",
       " 'famili': 8590,\n",
       " 'forev': 9426,\n",
       " 'rip': 22259,\n",
       " 'never': 18042,\n",
       " 'chanc': 4478,\n",
       " 'vote': 28338,\n",
       " 'presidenti': 20853,\n",
       " 'candid': 4056,\n",
       " 'excit': 8365,\n",
       " 'cycl': 6076,\n",
       " 'look': 15416,\n",
       " 'differ': 6819,\n",
       " 'alohafriday': 711,\n",
       " 'exist': 8393,\n",
       " 'positivevib': 20668,\n",
       " 'hawaiian': 11456,\n",
       " 'fellow': 8869,\n",
       " 'nohern': 18462,\n",
       " 'sadley': 22712,\n",
       " 'pass': 19712,\n",
       " 'tonight': 26893,\n",
       " 'gawa': 10036,\n",
       " 'sing': 23880,\n",
       " 'cheer': 4568,\n",
       " 'fire': 9054,\n",
       " 'hard': 11336,\n",
       " 'monday': 17119,\n",
       " 'due': 7459,\n",
       " 'cloudi': 5032,\n",
       " 'weather': 28667,\n",
       " 'disabl': 6886,\n",
       " 'oxygen': 19464,\n",
       " 'goodnight': 10627,\n",
       " 'badmonday': 1818,\n",
       " 'unbeliev': 27630,\n",
       " 'centuri': 4427,\n",
       " 'need': 17931,\n",
       " 'someth': 24401,\n",
       " 'like': 15083,\n",
       " 'neverump': 18066,\n",
       " 'xenophobia': 29633,\n",
       " 'bull': 3720,\n",
       " 'domin': 7154,\n",
       " 'direct': 6879,\n",
       " 'whatev': 28921,\n",
       " 'want': 28496,\n",
       " 'w': 28380,\n",
       " 'travelingram': 27116,\n",
       " 'dalat': 6171,\n",
       " 'ripinkylif': 22282,\n",
       " 'one': 19073,\n",
       " 'word': 29420,\n",
       " 'tell': 26079,\n",
       " 'photoshop': 20150,\n",
       " 'enoughisenough': 8060,\n",
       " 'dontphotoshopeveryth': 7209,\n",
       " 'wheresallthenaturalphoto': 28987,\n",
       " 'oh': 18960,\n",
       " 'cedarpoint': 4378,\n",
       " 'wait': 28415,\n",
       " 'hour': 12119,\n",
       " 'valravn': 27984,\n",
       " 'line': 15140,\n",
       " 'stop': 25043,\n",
       " 'work': 29428,\n",
       " 'close': 5016,\n",
       " 'sunshin': 25428,\n",
       " 'final': 8994,\n",
       " 'finish': 9039,\n",
       " 'book': 3189,\n",
       " 'awhil': 1657,\n",
       " 'bookworm': 3210,\n",
       " 'ontothenextnovel': 19152,\n",
       " 'yup': 29992,\n",
       " 'knick': 14314,\n",
       " 'easier': 7610,\n",
       " 'nba': 17877,\n",
       " 'playoff': 20380,\n",
       " 'roll': 22423,\n",
       " 'life': 15010,\n",
       " 'social': 24294,\n",
       " 'network': 18030,\n",
       " 'embrac': 7896,\n",
       " 'share': 23509,\n",
       " 'snake': 24215,\n",
       " 'echeveria': 7658,\n",
       " 'bloom': 3005,\n",
       " 'flower': 9269,\n",
       " 'grow': 10968,\n",
       " 'garden': 9992,\n",
       " 'iphonesia': 13171,\n",
       " 'bliss': 2965,\n",
       " 'basilicabotanica': 2036,\n",
       " 'amaz': 792,\n",
       " 'affirm': 311,\n",
       " 'whenev': 28961,\n",
       " 'im': 12618,\n",
       " 'goe': 10509,\n",
       " 'wrong': 29562,\n",
       " 'feel': 8804,\n",
       " 'blue': 3015,\n",
       " 'illustr': 12558,\n",
       " 'best': 2476,\n",
       " 'pa': 19476,\n",
       " 'readi': 21633,\n",
       " 'remov': 21971,\n",
       " 'victum': 28171,\n",
       " 'frm': 9698,\n",
       " 'pulseclub': 21175,\n",
       " 'prayfororlando': 20790,\n",
       " 'got': 10706,\n",
       " 'nose': 18587,\n",
       " 'job': 13675,\n",
       " 'petunia': 20059,\n",
       " 'concelebr': 5353,\n",
       " 'albanpilgrimag': 538,\n",
       " 'first': 9072,\n",
       " 'let': 14888,\n",
       " 'begin': 2311,\n",
       " 'super': 25438,\n",
       " 'zpamdelacruz': 30109,\n",
       " 'wed': 28691,\n",
       " 'dolor': 7147,\n",
       " 'capa': 4116,\n",
       " 'tarlac': 25851,\n",
       " 'scourg': 23092,\n",
       " 'play': 20366,\n",
       " 'baroqu': 2003,\n",
       " 'piec': 20196,\n",
       " 'piano': 20161,\n",
       " 'beyond': 2582,\n",
       " 'belief': 2363,\n",
       " 'fight': 8961,\n",
       " 'peac': 19844,\n",
       " 'rayo': 21597,\n",
       " 'video': 28174,\n",
       " 'world': 29472,\n",
       " 'hotvideo': 12113,\n",
       " 'ascot': 1361,\n",
       " 'babe': 1722,\n",
       " 'fashion': 8673,\n",
       " 'monochrom': 17151,\n",
       " 'style': 25226,\n",
       " 'instahappyday': 13009,\n",
       " 'selfi': 23255,\n",
       " 'yolo': 29861,\n",
       " 'xoxo': 29650,\n",
       " 'confer': 5391,\n",
       " 'right': 22230,\n",
       " 'mindset': 16839,\n",
       " 'lead': 14739,\n",
       " 'organ': 19264,\n",
       " 'christina': 4791,\n",
       " 'grimmi': 10941,\n",
       " 'last': 14630,\n",
       " 'perform': 19980,\n",
       " 'shot': 23705,\n",
       " 'christinarip': 4794,\n",
       " 'voic': 28316,\n",
       " 'christinagrimmi': 4793,\n",
       " 'danc': 6202,\n",
       " 'roar': 22350,\n",
       " 'preschool': 20844,\n",
       " 'student': 25191,\n",
       " 'realli': 21672,\n",
       " 'hu': 12191,\n",
       " 'wife': 29132,\n",
       " 'ador': 257,\n",
       " 'miss': 16905,\n",
       " 'poland': 20507,\n",
       " 'show': 23717,\n",
       " 'surgeri': 25530,\n",
       " 'name': 17761,\n",
       " 'bridget': 3469,\n",
       " 'everyth': 8316,\n",
       " 'jealou': 13538,\n",
       " 'chatiado': 4539,\n",
       " 'celebr': 4389,\n",
       " 'everi': 8296,\n",
       " 'fatherli': 8712,\n",
       " 'role': 22420,\n",
       " 'sure': 25518,\n",
       " 'white': 29016,\n",
       " 'establish': 8215,\n",
       " 'blk': 2970,\n",
       " 'folx': 9354,\n",
       " 'promot': 21017,\n",
       " 'morn': 17230,\n",
       " 'journey': 13766,\n",
       " 'travel': 27109,\n",
       " 'yeah': 29739,\n",
       " 'thejourneybegin': 26354,\n",
       " 'luv': 15783,\n",
       " 'hottweet': 12112,\n",
       " 'new': 18073,\n",
       " 'brochur': 3543,\n",
       " 'arriv': 1332,\n",
       " 'awork': 1666,\n",
       " 'solut': 24384,\n",
       " 'much': 17423,\n",
       " 'stuff': 25207,\n",
       " 'happen': 11295,\n",
       " 'florida': 9254,\n",
       " 'shoot': 23682,\n",
       " 'disneygatorattack': 6949,\n",
       " 'two': 27475,\n",
       " 'old': 19011,\n",
       " 'ferrari': 8895,\n",
       " 'sake': 22754,\n",
       " 'championship': 4475,\n",
       " 'gp': 10743,\n",
       " 'clearli': 4964,\n",
       " 'turn': 27392,\n",
       " 'point': 20492,\n",
       " 'rb': 21602,\n",
       " 'merc': 16599,\n",
       " 'ace': 137,\n",
       " 'test': 26155,\n",
       " 'proud': 21057,\n",
       " 'seek': 23203,\n",
       " 'probe': 20963,\n",
       " 'udtapunjab': 27534,\n",
       " 'leak': 14749,\n",
       " 'finger': 9035,\n",
       " 'amarind': 787,\n",
       " 'aap': 22,\n",
       " 'wrap': 29528,\n",
       " 'senseaboutmath': 23310,\n",
       " 'hey': 11704,\n",
       " 'race': 21389,\n",
       " 'ident': 12424,\n",
       " 'might': 16750,\n",
       " 'shown': 23726,\n",
       " 'regurgit': 21890,\n",
       " 'sometim': 24409,\n",
       " 'rais': 21484,\n",
       " 'brow': 3581,\n",
       " 'bar': 1957,\n",
       " 'golfstrengthandcondit': 10556,\n",
       " 'strong': 25170,\n",
       " 'felixfoisgolf': 8857,\n",
       " 'greathonour': 10855,\n",
       " 'careerconvo': 4167,\n",
       " 'design': 6663,\n",
       " 'innov': 12930,\n",
       " 'learn': 14757,\n",
       " 'space': 24555,\n",
       " 'includ': 12762,\n",
       " 'wateringhol': 28590,\n",
       " 'cave': 4324,\n",
       " 'mountaintop': 17306,\n",
       " 'campfir': 4021,\n",
       " 'altright': 751,\n",
       " 'insecur': 12940,\n",
       " 'lure': 15774,\n",
       " 'men': 16560,\n",
       " 'whitesupremaci': 29052,\n",
       " 'carri': 4221,\n",
       " 'gun': 11061,\n",
       " 'would': 29513,\n",
       " 'help': 11632,\n",
       " 'control': 5492,\n",
       " 'wo': 29301,\n",
       " 'black': 2848,\n",
       " 'market': 16224,\n",
       " 'terror': 26150,\n",
       " 'wors': 29503,\n",
       " 'power': 20728,\n",
       " 'mind': 16830,\n",
       " 'heal': 11513,\n",
       " 'bodi': 3096,\n",
       " 'altwaystoh': 753,\n",
       " 'healthi': 11525,\n",
       " 'woohoo': 29399,\n",
       " 'week': 28727,\n",
       " 'go': 10456,\n",
       " 'far': 8638,\n",
       " 'place': 20325,\n",
       " 'member': 16540,\n",
       " 'rehears': 21894,\n",
       " 'music': 17522,\n",
       " 'announc': 1045,\n",
       " 'midweek': 16745,\n",
       " 'newmus': 18163,\n",
       " 'watchthisspac': 28573,\n",
       " 'guitar': 11047,\n",
       " 'channel': 4495,\n",
       " 'fuss': 9868,\n",
       " 'watch': 28563,\n",
       " 'episod': 8121,\n",
       " 'offlin': 18949,\n",
       " 'nice': 18272,\n",
       " 'long': 15383,\n",
       " 'snapchat': 24217,\n",
       " 'redhead': 21788,\n",
       " 'vermillionr': 28097,\n",
       " 'thing': 26523,\n",
       " 'incred': 12774,\n",
       " 'ye': 29732,\n",
       " 'receiv': 21724,\n",
       " 'accept': 115,\n",
       " 'letter': 14923,\n",
       " 'master': 16297,\n",
       " 'back': 1773,\n",
       " 'octob': 18910,\n",
       " 'goodtim': 10641,\n",
       " 'histori': 11822,\n",
       " 'daughter': 6292,\n",
       " 'ride': 22212,\n",
       " 'bike': 2749,\n",
       " 'driveway': 7392,\n",
       " 'son': 24423,\n",
       " 'us': 27891,\n",
       " 'enjoy': 8042,\n",
       " 'summeim': 25327,\n",
       " 'memori': 16547,\n",
       " 'station': 24882,\n",
       " 'way': 28611,\n",
       " 'jam': 13457,\n",
       " 'done': 7174,\n",
       " 'cours': 5677,\n",
       " 'alway': 763,\n",
       " 'hope': 12028,\n",
       " 'hug': 12212,\n",
       " 'gon': 10567,\n",
       " 'na': 17716,\n",
       " 'anytim': 1129,\n",
       " 'soon': 24451,\n",
       " 'coupl': 5669,\n",
       " 'sex': 23395,\n",
       " 'nake': 17751,\n",
       " 'japanes': 13487,\n",
       " 'hump': 12254,\n",
       " 'edwardsvil': 7735,\n",
       " 'pennsylvania': 19924,\n",
       " 'personalis': 20019,\n",
       " 'gbp': 10073,\n",
       " 'shop': 23685,\n",
       " 'cool': 5517,\n",
       " 'home': 11929,\n",
       " 'fun': 9801,\n",
       " 'truli': 27266,\n",
       " 'sick': 23778,\n",
       " 'ppl': 20744,\n",
       " 'trump': 27271,\n",
       " 'obama': 18860,\n",
       " 'resign': 22053,\n",
       " 'boy': 3318,\n",
       " 'chang': 4487,\n",
       " 'nashvilleforev': 17801,\n",
       " 'clear': 4962,\n",
       " 'barrier': 2015,\n",
       " 'jump': 13827,\n",
       " 'fresh': 9626,\n",
       " 'high': 11735,\n",
       " 'la': 14469,\n",
       " 'friend': 9663,\n",
       " 'still': 24982,\n",
       " 'head': 11497,\n",
       " 'fact': 8525,\n",
       " 'gone': 10568,\n",
       " 'destroy': 6695,\n",
       " 'di': 6758,\n",
       " 'sta': 24784,\n",
       " 'bake': 1852,\n",
       " 'eyelid': 8465,\n",
       " 'vigilfororlando': 28196,\n",
       " 'harp': 11373,\n",
       " 'clonakilti': 5012,\n",
       " 'ihavenofriend': 12500,\n",
       " 'someonecomewithm': 24396,\n",
       " 'relax': 21922,\n",
       " 'icon': 12408,\n",
       " 'woman': 29331,\n",
       " 'sundaymorn': 25391,\n",
       " 'marilynmonro': 16208,\n",
       " 'interest': 13084,\n",
       " 'linguist': 15149,\n",
       " 'address': 209,\n",
       " 'racism': 21408,\n",
       " 'raciolinguist': 21407,\n",
       " 'belov': 2397,\n",
       " 'cd': 4356,\n",
       " 'recov': 21754,\n",
       " 'appl': 1181,\n",
       " 'marvel': 16257,\n",
       " 'song': 24430,\n",
       " 'musica': 17523,\n",
       " 'weed': 28723,\n",
       " 'ripchristina': 22271,\n",
       " 'adel': 212,\n",
       " 'vine': 28216,\n",
       " 'mock': 17033,\n",
       " 'brexit': 3451,\n",
       " 'spell': 24605,\n",
       " 'referendum': 21829,\n",
       " 'commerzbank': 5273,\n",
       " 'health': 11519,\n",
       " 'benefit': 2411,\n",
       " 'cucumb': 5964,\n",
       " 'ofw': 18955,\n",
       " 'pinoy': 20257,\n",
       " 'followm': 9348,\n",
       " 'iger': 12476,\n",
       " 'instagood': 13001,\n",
       " 'toradora': 26952,\n",
       " 'anim': 992,\n",
       " 'animeedit': 1009,\n",
       " 'breakup': 3418,\n",
       " 'alon': 713,\n",
       " 'lone': 15374,\n",
       " 'lap': 14602,\n",
       " 'pool': 20574,\n",
       " 'pick': 20171,\n",
       " 'gym': 11115,\n",
       " 'membership': 16541,\n",
       " 'form': 9449,\n",
       " 'cotd': 5620,\n",
       " 'polar': 20509,\n",
       " 'bear': 2178,\n",
       " 'angri': 979,\n",
       " 'live': 15230,\n",
       " 'cold': 5150,\n",
       " 'muslim': 17548,\n",
       " 'assassin': 1419,\n",
       " 'snappi': 24223,\n",
       " 'footbal': 9397,\n",
       " 'fring': 9687,\n",
       " 'qcbag': 21281,\n",
       " 'summer': 25330,\n",
       " 'nochebuena': 18412,\n",
       " 'lasvega': 14644,\n",
       " 'usa': 27892,\n",
       " 'vega': 28042,\n",
       " 'strip': 25155,\n",
       " 'fleurett': 9210,\n",
       " 'instaboy': 12977,\n",
       " 'instaman': 13018,\n",
       " 'sefi': 23220,\n",
       " 'septum': 23333,\n",
       " 'blackandwhit': 2849,\n",
       " 'branch': 3377,\n",
       " 'raini': 21470,\n",
       " 'write': 29550,\n",
       " 'tear': 26014,\n",
       " 'fli': 9216,\n",
       " 'bird': 2798,\n",
       " 'haiku': 11167,\n",
       " 'micropoetri': 16723,\n",
       " 'button': 3841,\n",
       " 'mail': 15941,\n",
       " 'pretti': 20875,\n",
       " 'jewelrymak': 13620,\n",
       " 'driver': 7390,\n",
       " 'femal': 8875,\n",
       " 'moos': 17202,\n",
       " 'river': 22313,\n",
       " 'rd': 21615,\n",
       " 'weston': 28875,\n",
       " 'kill': 14203,\n",
       " 'crew': 5830,\n",
       " 'afterpa': 350,\n",
       " 'japan': 13486,\n",
       " 'eo': 8104,\n",
       " 'cawaii': 4329,\n",
       " 'strawberri': 25105,\n",
       " 'tomato': 26866,\n",
       " 'protest': 21053,\n",
       " 'republican': 22024,\n",
       " 'fuher': 9777,\n",
       " 'find': 9016,\n",
       " 'spend': 24611,\n",
       " 'guy': 11100,\n",
       " 'updat': 27837,\n",
       " 'analyt': 917,\n",
       " 'photooftheday': 20146,\n",
       " 'anyon': 1124,\n",
       " 'date': 6283,\n",
       " 'doj': 7137,\n",
       " 'fbi': 8762,\n",
       " 'becam': 2246,\n",
       " 'corrupt': 5596,\n",
       " 'emailg': 7887,\n",
       " 'shame': 23487,\n",
       " 'disgrac': 6929,\n",
       " 'ridicul': 22216,\n",
       " 'stupid': 25214,\n",
       " 'even': 8285,\n",
       " 'put': 21250,\n",
       " 'sachintendulkar': 22693,\n",
       " 'instal': 13012,\n",
       " 'bestfriend': 2503,\n",
       " 'impoant': 12708,\n",
       " 'matter': 16335,\n",
       " 'sho': 23657,\n",
       " 'chri': 4779,\n",
       " 'actor': 181,\n",
       " 'human': 12235,\n",
       " 'chrisevan': 4781,\n",
       " 'hea': 11491,\n",
       " 'thought': 26601,\n",
       " 'prayer': 20773,\n",
       " 'murder': 17505,\n",
       " 'gay': 10037,\n",
       " 'demo': 6559,\n",
       " 'album': 548,\n",
       " 'newalbum': 18078,\n",
       " 'indi': 12792,\n",
       " 'echobelli': 7660,\n",
       " 'lion': 15161,\n",
       " 'pro': 20957,\n",
       " 'webmaret': 28677,\n",
       " 'seo': 23325,\n",
       " 'commun': 5285,\n",
       " 'manag': 16084,\n",
       " 'target': 25849,\n",
       " 'sma': 24116,\n",
       " 'bad': 1801,\n",
       " 'worst': 29506,\n",
       " 'ever': 8293,\n",
       " 'bihdayweeksuck': 2740,\n",
       " 'bless': 2938,\n",
       " 'sa': 22666,\n",
       " 'happiest': 11300,\n",
       " 'eah': 7582,\n",
       " 'disneysmagickingdom': 6954,\n",
       " 'disney': 6945,\n",
       " 'magickingdom': 15909,\n",
       " 'disneyland': 6950,\n",
       " 'kinda': 14232,\n",
       " 'among': 883,\n",
       " 'found': 9484,\n",
       " 'exclaim': 8371,\n",
       " 'blain': 2907,\n",
       " 'hair': 11170,\n",
       " 'nite': 18376,\n",
       " 'lt': 15708,\n",
       " 'listen': 15180,\n",
       " 'n': 17715,\n",
       " 'freedom': 9576,\n",
       " 'effo': 7760,\n",
       " 'present': 20847,\n",
       " 'mere': 16608,\n",
       " 'store': 25063,\n",
       " 'past': 19722,\n",
       " 'theodor': 26396,\n",
       " 'yall': 29697,\n",
       " 'aint': 445,\n",
       " 'commit': 5276,\n",
       " 'trust': 27306,\n",
       " 'faith': 8557,\n",
       " 'michelleobama': 16709,\n",
       " 'gorilla': 10695,\n",
       " 'racist': 21409,\n",
       " 'newarkfestiv': 18080,\n",
       " 'internet': 13097,\n",
       " 'broken': 3550,\n",
       " 'netflix': 18026,\n",
       " 'mochithepug': 17032,\n",
       " 'puglif': 21161,\n",
       " 'usual': 27931,\n",
       " 'hbd': 11471,\n",
       " 'dick': 6787,\n",
       " 'suckin': 25276,\n",
       " 'tequila': 26123,\n",
       " 'lovin': 15667,\n",
       " 'slut': 24112,\n",
       " 'wouldnt': 29515,\n",
       " 'justalil': 13858,\n",
       " 'butstillontim': 3829,\n",
       " 'smaller': 24131,\n",
       " 'hand': 11252,\n",
       " 'barri': 2013,\n",
       " 'probabl': 20960,\n",
       " 'lie': 15006,\n",
       " 'game': 9954,\n",
       " 'suck': 25273,\n",
       " 'everyon': 8310,\n",
       " 'goodmorn': 10621,\n",
       " 'challeng': 4465,\n",
       " 'claim': 4902,\n",
       " 'punjabi': 21197,\n",
       " 'drugaddict': 7411,\n",
       " 'dare': 6249,\n",
       " 'tracerequest': 27034,\n",
       " 'send': 23298,\n",
       " 'deepest': 6458,\n",
       " 'condol': 5378,\n",
       " 'zimbabw': 30068,\n",
       " 'touch': 26988,\n",
       " 'mato': 16328,\n",
       " 'chapon': 4504,\n",
       " 'saturday': 22931,\n",
       " 'afternoon': 348,\n",
       " 'chi': 4633,\n",
       " 'meet': 16496,\n",
       " 'so': 24270,\n",
       " 'nut': 18806,\n",
       " 'bolt': 3144,\n",
       " 'bloke': 2991,\n",
       " 'aww': 1668,\n",
       " 'bing': 2782,\n",
       " 'bong': 3164,\n",
       " 'dawn': 6321,\n",
       " 'month': 17171,\n",
       " 'vfest': 28134,\n",
       " 'shane': 23496,\n",
       " 'robe': 22358,\n",
       " 'watson': 28602,\n",
       " 'cricker': 5835,\n",
       " 'million': 16810,\n",
       " 'jewishsupremacist': 13622,\n",
       " 'hear': 11549,\n",
       " 'move': 17316,\n",
       " 'player': 20373,\n",
       " 'whoknow': 29070,\n",
       " 'coldplay': 5155,\n",
       " 'god': 10478,\n",
       " 'come': 5233,\n",
       " 'keep': 14053,\n",
       " 'terrorist': 26152,\n",
       " 'constitut': 5454,\n",
       " 'anoth': 1057,\n",
       " 'excus': 8376,\n",
       " 'appeas': 1174,\n",
       " 'nra': 18750,\n",
       " 'measur': 16455,\n",
       " 'gloucesterrugbi': 10429,\n",
       " 'togeth': 26837,\n",
       " 'fine': 9028,\n",
       " 'dandi': 6218,\n",
       " 'exuber': 8457,\n",
       " 'depress': 6619,\n",
       " 'halfful': 11199,\n",
       " 'halfempti': 11198,\n",
       " 'mikeashley': 16770,\n",
       " 'sposdirectsham': 24696,\n",
       " 'perhaps': 19983,\n",
       " 'exampl': 8351,\n",
       " 'protect': 21046,\n",
       " 'workersright': 29436,\n",
       " 'within': 29270,\n",
       " 'europ': 8262,\n",
       " 'euref': 8258,\n",
       " 'remain': 21948,\n",
       " 'stella': 24939,\n",
       " 'princess': 20920,\n",
       " 'birdsstellabadprincess': 2806,\n",
       " 'post': 20676,\n",
       " 'check': 4555,\n",
       " 'saw': 22969,\n",
       " 'shi': 23599,\n",
       " 'said': 22738,\n",
       " 'care': 4163,\n",
       " 'hilari': 11777,\n",
       " 'alreadi': 729,\n",
       " 'block': 2974,\n",
       " 'ask': 1394,\n",
       " 'paicularli': 19523,\n",
       " 'difficult': 6821,\n",
       " 'question': 21340,\n",
       " 'devast': 6720,\n",
       " 'news': 18179,\n",
       " 'victim': 28157,\n",
       " 'state': 24875,\n",
       " 'manner': 16135,\n",
       " 'margaret': 16188,\n",
       " 'lee': 14792,\n",
       " 'runbeck': 22605,\n",
       " 'quot': 21368,\n",
       " 'inspir': 12959,\n",
       " 'safe': 22716,\n",
       " 'acn': 153,\n",
       " 'creat': 5800,\n",
       " 'beat': 2195,\n",
       " 'makingbeat': 16015,\n",
       " 'thursday': 26653,\n",
       " 'istandard': 13295,\n",
       " 'number': 18788,\n",
       " 'weddingpay': 28700,\n",
       " 'forward': 9462,\n",
       " 'attend': 1503,\n",
       " 'cipd': 4857,\n",
       " 'workshop': 29465,\n",
       " 'cpd': 5721,\n",
       " 'onemoreday': 19090,\n",
       " 'reach': 21622,\n",
       " 'follow': 9341,\n",
       " 'twitch': 27465,\n",
       " 'hypu': 12330,\n",
       " 'stream': 25115,\n",
       " 'r': 21378,\n",
       " 'em': 7885,\n",
       " 'cost': 5611,\n",
       " 'verbal': 28089,\n",
       " 'abus': 103,\n",
       " 'adult': 263,\n",
       " 'teen': 26052,\n",
       " 'countri': 5656,\n",
       " 'bring': 3493,\n",
       " 'bomb': 3147,\n",
       " 'stadium': 24792,\n",
       " 'eat': 7631,\n",
       " 'bae': 1823,\n",
       " 'swalscha': 25587,\n",
       " 'dejeun': 6507,\n",
       " 'lunch': 15767,\n",
       " 'ilovethesecret': 12606,\n",
       " 'lawofattract': 14707,\n",
       " 'quiz': 21365,\n",
       " 'success': 25265,\n",
       " 'joy': 13775,\n",
       " 'libtard': 14995,\n",
       " 'sjw': 23961,\n",
       " 'liber': 14982,\n",
       " 'polit': 20530,\n",
       " 'pole': 20515,\n",
       " 'bgp': 2598,\n",
       " 'rozthediva': 22544,\n",
       " 'blackgirlspol': 2865,\n",
       " 'bodyandpol': 3101,\n",
       " 'attack': 1500,\n",
       " 'empti': 7955,\n",
       " 'citi': 4873,\n",
       " 'side': 23788,\n",
       " 'hypocrit': 12328,\n",
       " 'eye': 8459,\n",
       " 'bounc': 3291,\n",
       " 'ball': 1883,\n",
       " 'nimrod': 18357,\n",
       " 'presid': 20850,\n",
       " 'nohcarolina': 18456,\n",
       " 'whe': 28949,\n",
       " 'build': 3705,\n",
       " 'loo': 15414,\n",
       " 'reelect': 21820,\n",
       " 'money': 17132,\n",
       " 'ksleg': 14414,\n",
       " 'could': 5633,\n",
       " 'easili': 7612,\n",
       " 'anywher': 1132,\n",
       " 'alreemgroup': 731,\n",
       " 'ad': 191,\n",
       " 'cute': 6040,\n",
       " 'photographerdubai': 20139,\n",
       " 'sun': 25375,\n",
       " 'seem': 23206,\n",
       " 'montreal': 17180,\n",
       " 'wash': 28538,\n",
       " 'spirit': 24642,\n",
       " 'enteain': 8070,\n",
       " 'brisban': 3506,\n",
       " 'entrepreneur': 8085,\n",
       " 'speaker': 24580,\n",
       " 'confid': 5396,\n",
       " 'gala': 9928,\n",
       " 'moment': 17095,\n",
       " 'bipolar': 2794,\n",
       " 'lucki': 15722,\n",
       " 'chinatown': 4708,\n",
       " 'mall': 16054,\n",
       " 'binondo': 2788,\n",
       " 'complet': 5322,\n",
       " 'utter': 27943,\n",
       " 'moron': 17244,\n",
       " 'trash': 27104,\n",
       " 'america': 829,\n",
       " 'dad': 6108,\n",
       " 'give': 10354,\n",
       " 'magnettherapi': 15913,\n",
       " 'sebbo': 23172,\n",
       " 'egsmil': 7773,\n",
       " 'torio': 26960,\n",
       " 'brilliant': 3489,\n",
       " 'ketter': 14120,\n",
       " 'custom': 6029,\n",
       " 'screen': 23103,\n",
       " 'potp': 20703,\n",
       " 'shock': 23660,\n",
       " 'treatment': 27152,\n",
       " 'toraya': 26954,\n",
       " 'bu': 3656,\n",
       " 'alamindah': 523,\n",
       " 'carrieunderwood': 4224,\n",
       " 'beer': 2290,\n",
       " 'bridpo': 3471,\n",
       " 'food': 9361,\n",
       " 'fest': 8899,\n",
       " 'campsit': 4027,\n",
       " 'drunk': 7420,\n",
       " 'starstruck': 24866,\n",
       " 'g': 9899,\n",
       " 'l': 14468,\n",
       " 'repost': 22013,\n",
       " 'propey': 21031,\n",
       " 'ocean': 18898,\n",
       " 'teach': 25936,\n",
       " 'felt': 8873,\n",
       " 'pakistan': 19545,\n",
       " 'left': 14802,\n",
       " 'countdown': 5648,\n",
       " 'nolefam': 18488,\n",
       " 'milan': 16779,\n",
       " 'stone': 25032,\n",
       " 'rose': 22487,\n",
       " 'club': 5045,\n",
       " 'reason': 21695,\n",
       " 'stay': 24892,\n",
       " 'nobodi': 18405,\n",
       " 'els': 7876,\n",
       " 'hopelli': 12036,\n",
       " 'crush': 5916,\n",
       " 'wakow': 28440,\n",
       " 'buzz': 3854,\n",
       " 'hookup': 12017,\n",
       " 'app': 1167,\n",
       " 'engag': 8016,\n",
       " 'lef': 14801,\n",
       " 'end': 7971,\n",
       " 'classez': 4927,\n",
       " 'yay': 29720,\n",
       " 'risaypl': 22299,\n",
       " ...}"
      ]
     },
     "execution_count": 45,
     "metadata": {},
     "output_type": "execute_result"
    }
   ],
   "source": [
    "tfidf.vocabulary_"
   ]
  },
  {
   "cell_type": "code",
   "execution_count": 46,
   "metadata": {},
   "outputs": [],
   "source": [
    "df = pd.DataFrame(data = tfidf.fit_transform(docs).toarray(), columns=tfidf.get_feature_names())"
   ]
  },
  {
   "cell_type": "code",
   "execution_count": 47,
   "metadata": {
    "scrolled": true
   },
   "outputs": [
    {
     "data": {
      "text/html": [
       "<div>\n",
       "<style scoped>\n",
       "    .dataframe tbody tr th:only-of-type {\n",
       "        vertical-align: middle;\n",
       "    }\n",
       "\n",
       "    .dataframe tbody tr th {\n",
       "        vertical-align: top;\n",
       "    }\n",
       "\n",
       "    .dataframe thead th {\n",
       "        text-align: right;\n",
       "    }\n",
       "</style>\n",
       "<table border=\"1\" class=\"dataframe\">\n",
       "  <thead>\n",
       "    <tr style=\"text-align: right;\">\n",
       "      <th></th>\n",
       "      <th>a</th>\n",
       "      <th>aa</th>\n",
       "      <th>aaa</th>\n",
       "      <th>aaaaa</th>\n",
       "      <th>aaaaaand</th>\n",
       "      <th>aaaaah</th>\n",
       "      <th>aaaaand</th>\n",
       "      <th>aaahh</th>\n",
       "      <th>aaahhhh</th>\n",
       "      <th>aaahhhhh</th>\n",
       "      <th>...</th>\n",
       "      <th>zzzzzzzz</th>\n",
       "      <th>º</th>\n",
       "      <th>â</th>\n",
       "      <th>ã</th>\n",
       "      <th>å</th>\n",
       "      <th>ç</th>\n",
       "      <th>é</th>\n",
       "      <th>ì</th>\n",
       "      <th>ð</th>\n",
       "      <th>ù</th>\n",
       "    </tr>\n",
       "  </thead>\n",
       "  <tbody>\n",
       "    <tr>\n",
       "      <td>0</td>\n",
       "      <td>0.0</td>\n",
       "      <td>0.0</td>\n",
       "      <td>0.0</td>\n",
       "      <td>0.0</td>\n",
       "      <td>0.0</td>\n",
       "      <td>0.0</td>\n",
       "      <td>0.0</td>\n",
       "      <td>0.0</td>\n",
       "      <td>0.0</td>\n",
       "      <td>0.0</td>\n",
       "      <td>...</td>\n",
       "      <td>0.0</td>\n",
       "      <td>0.0</td>\n",
       "      <td>0.0</td>\n",
       "      <td>0.0</td>\n",
       "      <td>0.0</td>\n",
       "      <td>0.0</td>\n",
       "      <td>0.0</td>\n",
       "      <td>0.0</td>\n",
       "      <td>0.0</td>\n",
       "      <td>0.0</td>\n",
       "    </tr>\n",
       "    <tr>\n",
       "      <td>1</td>\n",
       "      <td>0.0</td>\n",
       "      <td>0.0</td>\n",
       "      <td>0.0</td>\n",
       "      <td>0.0</td>\n",
       "      <td>0.0</td>\n",
       "      <td>0.0</td>\n",
       "      <td>0.0</td>\n",
       "      <td>0.0</td>\n",
       "      <td>0.0</td>\n",
       "      <td>0.0</td>\n",
       "      <td>...</td>\n",
       "      <td>0.0</td>\n",
       "      <td>0.0</td>\n",
       "      <td>0.0</td>\n",
       "      <td>0.0</td>\n",
       "      <td>0.0</td>\n",
       "      <td>0.0</td>\n",
       "      <td>0.0</td>\n",
       "      <td>0.0</td>\n",
       "      <td>0.0</td>\n",
       "      <td>0.0</td>\n",
       "    </tr>\n",
       "    <tr>\n",
       "      <td>2</td>\n",
       "      <td>0.0</td>\n",
       "      <td>0.0</td>\n",
       "      <td>0.0</td>\n",
       "      <td>0.0</td>\n",
       "      <td>0.0</td>\n",
       "      <td>0.0</td>\n",
       "      <td>0.0</td>\n",
       "      <td>0.0</td>\n",
       "      <td>0.0</td>\n",
       "      <td>0.0</td>\n",
       "      <td>...</td>\n",
       "      <td>0.0</td>\n",
       "      <td>0.0</td>\n",
       "      <td>0.0</td>\n",
       "      <td>0.0</td>\n",
       "      <td>0.0</td>\n",
       "      <td>0.0</td>\n",
       "      <td>0.0</td>\n",
       "      <td>0.0</td>\n",
       "      <td>0.0</td>\n",
       "      <td>0.0</td>\n",
       "    </tr>\n",
       "    <tr>\n",
       "      <td>3</td>\n",
       "      <td>0.0</td>\n",
       "      <td>0.0</td>\n",
       "      <td>0.0</td>\n",
       "      <td>0.0</td>\n",
       "      <td>0.0</td>\n",
       "      <td>0.0</td>\n",
       "      <td>0.0</td>\n",
       "      <td>0.0</td>\n",
       "      <td>0.0</td>\n",
       "      <td>0.0</td>\n",
       "      <td>...</td>\n",
       "      <td>0.0</td>\n",
       "      <td>0.0</td>\n",
       "      <td>0.0</td>\n",
       "      <td>0.0</td>\n",
       "      <td>0.0</td>\n",
       "      <td>0.0</td>\n",
       "      <td>0.0</td>\n",
       "      <td>0.0</td>\n",
       "      <td>0.0</td>\n",
       "      <td>0.0</td>\n",
       "    </tr>\n",
       "    <tr>\n",
       "      <td>4</td>\n",
       "      <td>0.0</td>\n",
       "      <td>0.0</td>\n",
       "      <td>0.0</td>\n",
       "      <td>0.0</td>\n",
       "      <td>0.0</td>\n",
       "      <td>0.0</td>\n",
       "      <td>0.0</td>\n",
       "      <td>0.0</td>\n",
       "      <td>0.0</td>\n",
       "      <td>0.0</td>\n",
       "      <td>...</td>\n",
       "      <td>0.0</td>\n",
       "      <td>0.0</td>\n",
       "      <td>0.0</td>\n",
       "      <td>0.0</td>\n",
       "      <td>0.0</td>\n",
       "      <td>0.0</td>\n",
       "      <td>0.0</td>\n",
       "      <td>0.0</td>\n",
       "      <td>0.0</td>\n",
       "      <td>0.0</td>\n",
       "    </tr>\n",
       "    <tr>\n",
       "      <td>5</td>\n",
       "      <td>0.0</td>\n",
       "      <td>0.0</td>\n",
       "      <td>0.0</td>\n",
       "      <td>0.0</td>\n",
       "      <td>0.0</td>\n",
       "      <td>0.0</td>\n",
       "      <td>0.0</td>\n",
       "      <td>0.0</td>\n",
       "      <td>0.0</td>\n",
       "      <td>0.0</td>\n",
       "      <td>...</td>\n",
       "      <td>0.0</td>\n",
       "      <td>0.0</td>\n",
       "      <td>0.0</td>\n",
       "      <td>0.0</td>\n",
       "      <td>0.0</td>\n",
       "      <td>0.0</td>\n",
       "      <td>0.0</td>\n",
       "      <td>0.0</td>\n",
       "      <td>0.0</td>\n",
       "      <td>0.0</td>\n",
       "    </tr>\n",
       "    <tr>\n",
       "      <td>6</td>\n",
       "      <td>0.0</td>\n",
       "      <td>0.0</td>\n",
       "      <td>0.0</td>\n",
       "      <td>0.0</td>\n",
       "      <td>0.0</td>\n",
       "      <td>0.0</td>\n",
       "      <td>0.0</td>\n",
       "      <td>0.0</td>\n",
       "      <td>0.0</td>\n",
       "      <td>0.0</td>\n",
       "      <td>...</td>\n",
       "      <td>0.0</td>\n",
       "      <td>0.0</td>\n",
       "      <td>0.0</td>\n",
       "      <td>0.0</td>\n",
       "      <td>0.0</td>\n",
       "      <td>0.0</td>\n",
       "      <td>0.0</td>\n",
       "      <td>0.0</td>\n",
       "      <td>0.0</td>\n",
       "      <td>0.0</td>\n",
       "    </tr>\n",
       "    <tr>\n",
       "      <td>7</td>\n",
       "      <td>0.0</td>\n",
       "      <td>0.0</td>\n",
       "      <td>0.0</td>\n",
       "      <td>0.0</td>\n",
       "      <td>0.0</td>\n",
       "      <td>0.0</td>\n",
       "      <td>0.0</td>\n",
       "      <td>0.0</td>\n",
       "      <td>0.0</td>\n",
       "      <td>0.0</td>\n",
       "      <td>...</td>\n",
       "      <td>0.0</td>\n",
       "      <td>0.0</td>\n",
       "      <td>0.0</td>\n",
       "      <td>0.0</td>\n",
       "      <td>0.0</td>\n",
       "      <td>0.0</td>\n",
       "      <td>0.0</td>\n",
       "      <td>0.0</td>\n",
       "      <td>0.0</td>\n",
       "      <td>0.0</td>\n",
       "    </tr>\n",
       "    <tr>\n",
       "      <td>8</td>\n",
       "      <td>0.0</td>\n",
       "      <td>0.0</td>\n",
       "      <td>0.0</td>\n",
       "      <td>0.0</td>\n",
       "      <td>0.0</td>\n",
       "      <td>0.0</td>\n",
       "      <td>0.0</td>\n",
       "      <td>0.0</td>\n",
       "      <td>0.0</td>\n",
       "      <td>0.0</td>\n",
       "      <td>...</td>\n",
       "      <td>0.0</td>\n",
       "      <td>0.0</td>\n",
       "      <td>0.0</td>\n",
       "      <td>0.0</td>\n",
       "      <td>0.0</td>\n",
       "      <td>0.0</td>\n",
       "      <td>0.0</td>\n",
       "      <td>0.0</td>\n",
       "      <td>0.0</td>\n",
       "      <td>0.0</td>\n",
       "    </tr>\n",
       "    <tr>\n",
       "      <td>9</td>\n",
       "      <td>0.0</td>\n",
       "      <td>0.0</td>\n",
       "      <td>0.0</td>\n",
       "      <td>0.0</td>\n",
       "      <td>0.0</td>\n",
       "      <td>0.0</td>\n",
       "      <td>0.0</td>\n",
       "      <td>0.0</td>\n",
       "      <td>0.0</td>\n",
       "      <td>0.0</td>\n",
       "      <td>...</td>\n",
       "      <td>0.0</td>\n",
       "      <td>0.0</td>\n",
       "      <td>0.0</td>\n",
       "      <td>0.0</td>\n",
       "      <td>0.0</td>\n",
       "      <td>0.0</td>\n",
       "      <td>0.0</td>\n",
       "      <td>0.0</td>\n",
       "      <td>0.0</td>\n",
       "      <td>0.0</td>\n",
       "    </tr>\n",
       "  </tbody>\n",
       "</table>\n",
       "<p>10 rows × 30131 columns</p>\n",
       "</div>"
      ],
      "text/plain": [
       "     a   aa  aaa  aaaaa  aaaaaand  aaaaah  aaaaand  aaahh  aaahhhh  aaahhhhh  \\\n",
       "0  0.0  0.0  0.0    0.0       0.0     0.0      0.0    0.0      0.0       0.0   \n",
       "1  0.0  0.0  0.0    0.0       0.0     0.0      0.0    0.0      0.0       0.0   \n",
       "2  0.0  0.0  0.0    0.0       0.0     0.0      0.0    0.0      0.0       0.0   \n",
       "3  0.0  0.0  0.0    0.0       0.0     0.0      0.0    0.0      0.0       0.0   \n",
       "4  0.0  0.0  0.0    0.0       0.0     0.0      0.0    0.0      0.0       0.0   \n",
       "5  0.0  0.0  0.0    0.0       0.0     0.0      0.0    0.0      0.0       0.0   \n",
       "6  0.0  0.0  0.0    0.0       0.0     0.0      0.0    0.0      0.0       0.0   \n",
       "7  0.0  0.0  0.0    0.0       0.0     0.0      0.0    0.0      0.0       0.0   \n",
       "8  0.0  0.0  0.0    0.0       0.0     0.0      0.0    0.0      0.0       0.0   \n",
       "9  0.0  0.0  0.0    0.0       0.0     0.0      0.0    0.0      0.0       0.0   \n",
       "\n",
       "   ...  zzzzzzzz    º    â    ã    å    ç    é    ì    ð    ù  \n",
       "0  ...       0.0  0.0  0.0  0.0  0.0  0.0  0.0  0.0  0.0  0.0  \n",
       "1  ...       0.0  0.0  0.0  0.0  0.0  0.0  0.0  0.0  0.0  0.0  \n",
       "2  ...       0.0  0.0  0.0  0.0  0.0  0.0  0.0  0.0  0.0  0.0  \n",
       "3  ...       0.0  0.0  0.0  0.0  0.0  0.0  0.0  0.0  0.0  0.0  \n",
       "4  ...       0.0  0.0  0.0  0.0  0.0  0.0  0.0  0.0  0.0  0.0  \n",
       "5  ...       0.0  0.0  0.0  0.0  0.0  0.0  0.0  0.0  0.0  0.0  \n",
       "6  ...       0.0  0.0  0.0  0.0  0.0  0.0  0.0  0.0  0.0  0.0  \n",
       "7  ...       0.0  0.0  0.0  0.0  0.0  0.0  0.0  0.0  0.0  0.0  \n",
       "8  ...       0.0  0.0  0.0  0.0  0.0  0.0  0.0  0.0  0.0  0.0  \n",
       "9  ...       0.0  0.0  0.0  0.0  0.0  0.0  0.0  0.0  0.0  0.0  \n",
       "\n",
       "[10 rows x 30131 columns]"
      ]
     },
     "execution_count": 47,
     "metadata": {},
     "output_type": "execute_result"
    }
   ],
   "source": [
    "df.head(10)"
   ]
  },
  {
   "cell_type": "code",
   "execution_count": 48,
   "metadata": {},
   "outputs": [],
   "source": [
    "df[\"hate_speech\"] = y"
   ]
  },
  {
   "cell_type": "code",
   "execution_count": 49,
   "metadata": {
    "scrolled": true
   },
   "outputs": [
    {
     "data": {
      "text/html": [
       "<div>\n",
       "<style scoped>\n",
       "    .dataframe tbody tr th:only-of-type {\n",
       "        vertical-align: middle;\n",
       "    }\n",
       "\n",
       "    .dataframe tbody tr th {\n",
       "        vertical-align: top;\n",
       "    }\n",
       "\n",
       "    .dataframe thead th {\n",
       "        text-align: right;\n",
       "    }\n",
       "</style>\n",
       "<table border=\"1\" class=\"dataframe\">\n",
       "  <thead>\n",
       "    <tr style=\"text-align: right;\">\n",
       "      <th></th>\n",
       "      <th>a</th>\n",
       "      <th>aa</th>\n",
       "      <th>aaa</th>\n",
       "      <th>aaaaa</th>\n",
       "      <th>aaaaaand</th>\n",
       "      <th>aaaaah</th>\n",
       "      <th>aaaaand</th>\n",
       "      <th>aaahh</th>\n",
       "      <th>aaahhhh</th>\n",
       "      <th>aaahhhhh</th>\n",
       "      <th>...</th>\n",
       "      <th>º</th>\n",
       "      <th>â</th>\n",
       "      <th>ã</th>\n",
       "      <th>å</th>\n",
       "      <th>ç</th>\n",
       "      <th>é</th>\n",
       "      <th>ì</th>\n",
       "      <th>ð</th>\n",
       "      <th>ù</th>\n",
       "      <th>hate_speech</th>\n",
       "    </tr>\n",
       "  </thead>\n",
       "  <tbody>\n",
       "    <tr>\n",
       "      <td>0</td>\n",
       "      <td>0.0</td>\n",
       "      <td>0.0</td>\n",
       "      <td>0.0</td>\n",
       "      <td>0.0</td>\n",
       "      <td>0.0</td>\n",
       "      <td>0.0</td>\n",
       "      <td>0.0</td>\n",
       "      <td>0.0</td>\n",
       "      <td>0.0</td>\n",
       "      <td>0.0</td>\n",
       "      <td>...</td>\n",
       "      <td>0.0</td>\n",
       "      <td>0.0</td>\n",
       "      <td>0.0</td>\n",
       "      <td>0.0</td>\n",
       "      <td>0.0</td>\n",
       "      <td>0.0</td>\n",
       "      <td>0.0</td>\n",
       "      <td>0.0</td>\n",
       "      <td>0.0</td>\n",
       "      <td>0</td>\n",
       "    </tr>\n",
       "    <tr>\n",
       "      <td>1</td>\n",
       "      <td>0.0</td>\n",
       "      <td>0.0</td>\n",
       "      <td>0.0</td>\n",
       "      <td>0.0</td>\n",
       "      <td>0.0</td>\n",
       "      <td>0.0</td>\n",
       "      <td>0.0</td>\n",
       "      <td>0.0</td>\n",
       "      <td>0.0</td>\n",
       "      <td>0.0</td>\n",
       "      <td>...</td>\n",
       "      <td>0.0</td>\n",
       "      <td>0.0</td>\n",
       "      <td>0.0</td>\n",
       "      <td>0.0</td>\n",
       "      <td>0.0</td>\n",
       "      <td>0.0</td>\n",
       "      <td>0.0</td>\n",
       "      <td>0.0</td>\n",
       "      <td>0.0</td>\n",
       "      <td>0</td>\n",
       "    </tr>\n",
       "    <tr>\n",
       "      <td>2</td>\n",
       "      <td>0.0</td>\n",
       "      <td>0.0</td>\n",
       "      <td>0.0</td>\n",
       "      <td>0.0</td>\n",
       "      <td>0.0</td>\n",
       "      <td>0.0</td>\n",
       "      <td>0.0</td>\n",
       "      <td>0.0</td>\n",
       "      <td>0.0</td>\n",
       "      <td>0.0</td>\n",
       "      <td>...</td>\n",
       "      <td>0.0</td>\n",
       "      <td>0.0</td>\n",
       "      <td>0.0</td>\n",
       "      <td>0.0</td>\n",
       "      <td>0.0</td>\n",
       "      <td>0.0</td>\n",
       "      <td>0.0</td>\n",
       "      <td>0.0</td>\n",
       "      <td>0.0</td>\n",
       "      <td>0</td>\n",
       "    </tr>\n",
       "    <tr>\n",
       "      <td>3</td>\n",
       "      <td>0.0</td>\n",
       "      <td>0.0</td>\n",
       "      <td>0.0</td>\n",
       "      <td>0.0</td>\n",
       "      <td>0.0</td>\n",
       "      <td>0.0</td>\n",
       "      <td>0.0</td>\n",
       "      <td>0.0</td>\n",
       "      <td>0.0</td>\n",
       "      <td>0.0</td>\n",
       "      <td>...</td>\n",
       "      <td>0.0</td>\n",
       "      <td>0.0</td>\n",
       "      <td>0.0</td>\n",
       "      <td>0.0</td>\n",
       "      <td>0.0</td>\n",
       "      <td>0.0</td>\n",
       "      <td>0.0</td>\n",
       "      <td>0.0</td>\n",
       "      <td>0.0</td>\n",
       "      <td>0</td>\n",
       "    </tr>\n",
       "    <tr>\n",
       "      <td>4</td>\n",
       "      <td>0.0</td>\n",
       "      <td>0.0</td>\n",
       "      <td>0.0</td>\n",
       "      <td>0.0</td>\n",
       "      <td>0.0</td>\n",
       "      <td>0.0</td>\n",
       "      <td>0.0</td>\n",
       "      <td>0.0</td>\n",
       "      <td>0.0</td>\n",
       "      <td>0.0</td>\n",
       "      <td>...</td>\n",
       "      <td>0.0</td>\n",
       "      <td>0.0</td>\n",
       "      <td>0.0</td>\n",
       "      <td>0.0</td>\n",
       "      <td>0.0</td>\n",
       "      <td>0.0</td>\n",
       "      <td>0.0</td>\n",
       "      <td>0.0</td>\n",
       "      <td>0.0</td>\n",
       "      <td>0</td>\n",
       "    </tr>\n",
       "  </tbody>\n",
       "</table>\n",
       "<p>5 rows × 30132 columns</p>\n",
       "</div>"
      ],
      "text/plain": [
       "     a   aa  aaa  aaaaa  aaaaaand  aaaaah  aaaaand  aaahh  aaahhhh  aaahhhhh  \\\n",
       "0  0.0  0.0  0.0    0.0       0.0     0.0      0.0    0.0      0.0       0.0   \n",
       "1  0.0  0.0  0.0    0.0       0.0     0.0      0.0    0.0      0.0       0.0   \n",
       "2  0.0  0.0  0.0    0.0       0.0     0.0      0.0    0.0      0.0       0.0   \n",
       "3  0.0  0.0  0.0    0.0       0.0     0.0      0.0    0.0      0.0       0.0   \n",
       "4  0.0  0.0  0.0    0.0       0.0     0.0      0.0    0.0      0.0       0.0   \n",
       "\n",
       "   ...    º    â    ã    å    ç    é    ì    ð    ù  hate_speech  \n",
       "0  ...  0.0  0.0  0.0  0.0  0.0  0.0  0.0  0.0  0.0            0  \n",
       "1  ...  0.0  0.0  0.0  0.0  0.0  0.0  0.0  0.0  0.0            0  \n",
       "2  ...  0.0  0.0  0.0  0.0  0.0  0.0  0.0  0.0  0.0            0  \n",
       "3  ...  0.0  0.0  0.0  0.0  0.0  0.0  0.0  0.0  0.0            0  \n",
       "4  ...  0.0  0.0  0.0  0.0  0.0  0.0  0.0  0.0  0.0            0  \n",
       "\n",
       "[5 rows x 30132 columns]"
      ]
     },
     "execution_count": 49,
     "metadata": {},
     "output_type": "execute_result"
    }
   ],
   "source": [
    "df['hate_speech']\n",
    "df.head()"
   ]
  },
  {
   "cell_type": "code",
   "execution_count": 50,
   "metadata": {},
   "outputs": [],
   "source": [
    "## delete these last letters - cleanining"
   ]
  },
  {
   "cell_type": "markdown",
   "metadata": {},
   "source": [
    "### Training a Logistic Regression model "
   ]
  },
  {
   "cell_type": "code",
   "execution_count": 51,
   "metadata": {},
   "outputs": [],
   "source": [
    "from sklearn.linear_model import LogisticRegression\n",
    "from sklearn.model_selection import GridSearchCV"
   ]
  },
  {
   "cell_type": "markdown",
   "metadata": {},
   "source": [
    "**Hyperparameter tuning, Cross-Validation:**"
   ]
  },
  {
   "cell_type": "code",
   "execution_count": 52,
   "metadata": {},
   "outputs": [],
   "source": [
    "parameters = {'penalty':('l1', 'l2'), 'C':np.logspace(-2, 2, 5), 'solver':['liblinear']} #saga\n",
    "#using a regularization penalty"
   ]
  },
  {
   "cell_type": "code",
   "execution_count": 53,
   "metadata": {},
   "outputs": [],
   "source": [
    "lr = LogisticRegression()"
   ]
  },
  {
   "cell_type": "code",
   "execution_count": 54,
   "metadata": {},
   "outputs": [],
   "source": [
    "clf = GridSearchCV(lr, param_grid = parameters, cv = 5, verbose=True)"
   ]
  },
  {
   "cell_type": "code",
   "execution_count": 55,
   "metadata": {},
   "outputs": [],
   "source": [
    "X_train = df.iloc[:,:-1] \n",
    "y_train = df['hate_speech']"
   ]
  },
  {
   "cell_type": "code",
   "execution_count": 57,
   "metadata": {
    "scrolled": true
   },
   "outputs": [],
   "source": [
    "best_clf = clf.fit(X_train, y_train)"
   ]
  },
  {
   "cell_type": "code",
   "execution_count": null,
   "metadata": {},
   "outputs": [],
   "source": [
    "# how do I incorporate best_clf below? (and for all the models)"
   ]
  },
  {
   "cell_type": "code",
   "execution_count": null,
   "metadata": {
    "scrolled": true
   },
   "outputs": [],
   "source": [
    "lr.fit(X = df.iloc[:,:-1], y = df['hate_speech'])"
   ]
  },
  {
   "cell_type": "code",
   "execution_count": null,
   "metadata": {},
   "outputs": [],
   "source": [
    "lr.predict(X = df.iloc[:,:-1]).mean()"
   ]
  },
  {
   "cell_type": "markdown",
   "metadata": {},
   "source": [
    "**ROC curve metric:**"
   ]
  },
  {
   "cell_type": "code",
   "execution_count": null,
   "metadata": {},
   "outputs": [],
   "source": [
    "import numpy as np \n",
    "from sklearn import metrics"
   ]
  },
  {
   "cell_type": "code",
   "execution_count": null,
   "metadata": {},
   "outputs": [],
   "source": [
    "# Figure out what are \"scores\" and \"y\""
   ]
  },
  {
   "cell_type": "code",
   "execution_count": null,
   "metadata": {},
   "outputs": [],
   "source": [
    "#y = np.array([1, 1, 2, 2])\n",
    "# scores = np.array([0.1, 0.4, 0.35, 0.8])\n",
    "#fpr, tpr, thresholds = metrics.roc_curve(y, scores, pos_label=2)\n",
    "#fpr"
   ]
  },
  {
   "cell_type": "markdown",
   "metadata": {},
   "source": [
    "### Training a Decision Tree model"
   ]
  },
  {
   "cell_type": "code",
   "execution_count": 58,
   "metadata": {},
   "outputs": [],
   "source": [
    "from sklearn.tree import DecisionTreeClassifier"
   ]
  },
  {
   "cell_type": "code",
   "execution_count": null,
   "metadata": {},
   "outputs": [],
   "source": [
    "# fitting\n",
    "X_train = df.iloc[:,:-1] \n",
    "y_train = df['hate_speech']\n",
    "\n",
    "clf = DecisionTreeClassifier()\n",
    "clf.fit(X_train, y_train)"
   ]
  },
  {
   "cell_type": "code",
   "execution_count": null,
   "metadata": {},
   "outputs": [],
   "source": [
    "# predicting\n",
    "clf.predict(X = df.iloc[:,:-1]).mean()"
   ]
  },
  {
   "cell_type": "markdown",
   "metadata": {},
   "source": [
    "### Training a Random Forest model"
   ]
  },
  {
   "cell_type": "code",
   "execution_count": null,
   "metadata": {},
   "outputs": [],
   "source": [
    "from sklear.ensemble import RandomForestClassifier"
   ]
  },
  {
   "cell_type": "code",
   "execution_count": null,
   "metadata": {},
   "outputs": [],
   "source": [
    "# how to choose optimal depth and random state?"
   ]
  },
  {
   "cell_type": "code",
   "execution_count": null,
   "metadata": {},
   "outputs": [],
   "source": [
    "# fitting \n",
    "clf = RandomForestClassifier(max_depth=2, random_state=0)\n",
    "clf.fit(X, y)"
   ]
  },
  {
   "cell_type": "code",
   "execution_count": null,
   "metadata": {},
   "outputs": [],
   "source": [
    "clf.predict(X = df.iloc[:,:-1]).mean()"
   ]
  },
  {
   "cell_type": "markdown",
   "metadata": {},
   "source": [
    "### Training a Multinomial Naive Bayes model"
   ]
  },
  {
   "cell_type": "code",
   "execution_count": null,
   "metadata": {},
   "outputs": [],
   "source": [
    "# multinomial - normally used for tfidf type of data"
   ]
  },
  {
   "cell_type": "code",
   "execution_count": null,
   "metadata": {},
   "outputs": [],
   "source": [
    "# fitting\n",
    "clf = MultinomialNB()\n",
    "clf.fit(X,y)"
   ]
  },
  {
   "cell_type": "code",
   "execution_count": null,
   "metadata": {},
   "outputs": [],
   "source": [
    "# predicting\n",
    "clf.predict(X = df.iloc[:,:-1]).mean()"
   ]
  },
  {
   "cell_type": "markdown",
   "metadata": {},
   "source": [
    "### Training a SVM model"
   ]
  },
  {
   "cell_type": "code",
   "execution_count": null,
   "metadata": {},
   "outputs": [],
   "source": [
    "from sklearn.pipeline import make_pipeline\n",
    "from sklearn.preprocessing import StanndardScaler\n",
    "ffrom sklearn.svm import SVC"
   ]
  },
  {
   "cell_type": "code",
   "execution_count": null,
   "metadata": {},
   "outputs": [],
   "source": [
    "#fitting\n",
    "\n",
    "X_train = df.iloc[:,:-1] \n",
    "y_train = df['hate_speech']\n",
    "\n",
    "clf = make_pipeline(StandardScaler(), SVC(gamma='auto'))\n",
    "clf.fit(X_train, y_train)"
   ]
  },
  {
   "cell_type": "code",
   "execution_count": null,
   "metadata": {},
   "outputs": [],
   "source": [
    "# predicting\n",
    "clf.predict(X = df.iloc[:,:-1]).mean()"
   ]
  },
  {
   "cell_type": "markdown",
   "metadata": {},
   "source": [
    "____"
   ]
  },
  {
   "cell_type": "code",
   "execution_count": null,
   "metadata": {},
   "outputs": [],
   "source": [
    "## Below the cells are for optimizing the showcase of wordclouds. Needs to be debugged."
   ]
  },
  {
   "cell_type": "code",
   "execution_count": null,
   "metadata": {},
   "outputs": [],
   "source": [
    "# from collections import Counter"
   ]
  },
  {
   "cell_type": "code",
   "execution_count": null,
   "metadata": {},
   "outputs": [],
   "source": [
    "# ## RUNS FOREVER\n",
    "# ## non-hate\n",
    "# token_counters1 = data.loc[data['label']==0, 'token_clean_alph'].apply(lambda x: Counter(x))\n",
    "# freq_token_nh = sum(token_counters1, Counter())"
   ]
  },
  {
   "cell_type": "code",
   "execution_count": null,
   "metadata": {},
   "outputs": [],
   "source": [
    "# from wordcloud import WordCloud\n",
    "\n",
    "# wordcloud = WordCloud(min_word_length = 2, background_color='white')\n",
    "# wordcloud.generate_from_frequencies(freq_tokens_h)\n",
    "\n",
    "# plt.imshow(wordcloud, interpolation='bilinear')\n",
    "# plt.axis('off')\n",
    "# plt.show()"
   ]
  },
  {
   "cell_type": "code",
   "execution_count": null,
   "metadata": {
    "scrolled": true
   },
   "outputs": [],
   "source": [
    "# ## convert dictionary into dataframe\n",
    "# data_items = freq_tokens.items()\n",
    "# data_list = list(data_items)\n",
    "# df = pd.DataFrame(data_list)\n",
    "# df = df.rename(columns = {0:'word', 1:\"frequency\"})\n",
    "# df = df.sort_values(by=['frequency'], ascending=False)\n",
    "\n",
    "# df.head(30).plot.bar(x='word', y ='frequency')"
   ]
  },
  {
   "cell_type": "code",
   "execution_count": null,
   "metadata": {},
   "outputs": [],
   "source": [
    "# ## hate-speech \n",
    "# token_counters2 = data.loc[data['label']==1, 'token_clean_alph'].apply(lambda x: Counter(x))\n",
    "# freq_tokens_h = sum(token_counters2, Counter())"
   ]
  },
  {
   "cell_type": "code",
   "execution_count": null,
   "metadata": {},
   "outputs": [],
   "source": [
    "import pandas as pd \n",
    "test_dataset = pd.read_csv('test.csv')\n",
    "#test_dataset.head()"
   ]
  },
  {
   "cell_type": "code",
   "execution_count": null,
   "metadata": {},
   "outputs": [],
   "source": []
  }
 ],
 "metadata": {
  "kernelspec": {
   "display_name": "Python 3",
   "language": "python",
   "name": "python3"
  },
  "language_info": {
   "codemirror_mode": {
    "name": "ipython",
    "version": 3
   },
   "file_extension": ".py",
   "mimetype": "text/x-python",
   "name": "python",
   "nbconvert_exporter": "python",
   "pygments_lexer": "ipython3",
   "version": "3.7.4"
  }
 },
 "nbformat": 4,
 "nbformat_minor": 2
}
